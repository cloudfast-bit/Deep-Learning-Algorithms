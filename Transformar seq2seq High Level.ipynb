{
 "cells": [
  {
   "cell_type": "markdown",
   "metadata": {},
   "source": [
    "# Sequence-to-Sequence with nn.Transformer Module\n",
    "\n",
    "This is an example on how to train a sequence-to-sequence model that uses the nn.Transformer module."
   ]
  },
  {
   "cell_type": "markdown",
   "metadata": {},
   "source": [
    "### Define the model\n",
    "\n",
    "A sequence of tokens are passed to the embedding layer first, followed by a positional encoding layer to account for the order of the word. \n",
    "\n",
    "Along with the input sequence, a square attention mask is required because the self-attention layers in nn.TransformerEncoder are only allowed to attend the earlier positions in the sequence. For the language modeling task, any tokens on the future positions should be masked.\n",
    "\n",
    "To have the actual words, the output of nn.TransformerEncoder model is sent to the final Linear layer, which is followed by a log-Softmax function."
   ]
  },
  {
   "cell_type": "code",
   "execution_count": 1,
   "metadata": {},
   "outputs": [],
   "source": [
    "import math\n",
    "import torch\n",
    "import torch.nn as nn\n",
    "import torch.nn.functional as F\n",
    "from torch.nn import TransformerEncoder, TransformerEncoderLayer\n",
    "\n",
    "class TransformerModel(nn.Module):\n",
    "\n",
    "    def __init__(self, ntoken, ninp, nhead, nhid, nlayers, dropout=0.5):\n",
    "        super(TransformerModel, self).__init__()\n",
    "        self.model_type = 'Transformer'\n",
    "        self.pos_encoder = PositionalEncoding(ninp, dropout)\n",
    "        encoder_layers = TransformerEncoderLayer(ninp, nhead, nhid, dropout)\n",
    "        self.transformer_encoder = TransformerEncoder(encoder_layers, nlayers)\n",
    "        self.encoder = nn.Embedding(ntoken, ninp)\n",
    "        self.ninp = ninp\n",
    "        self.decoder = nn.Linear(ninp, ntoken)\n",
    "\n",
    "        self.init_weights()\n",
    "\n",
    "    def generate_square_subsequent_mask(self, sz):\n",
    "        mask = (torch.triu(torch.ones(sz, sz)) == 1).transpose(0, 1)\n",
    "        mask = mask.float().masked_fill(mask == 0, float('-inf')).masked_fill(mask == 1, float(0.0))\n",
    "        return mask\n",
    "\n",
    "    def init_weights(self):\n",
    "        initrange = 0.1\n",
    "        self.encoder.weight.data.uniform_(-initrange, initrange)\n",
    "        self.decoder.bias.data.zero_()\n",
    "        self.decoder.weight.data.uniform_(-initrange, initrange)\n",
    "\n",
    "    def forward(self, src, src_mask):\n",
    "        src = self.encoder(src) * math.sqrt(self.ninp)\n",
    "        src = self.pos_encoder(src)\n",
    "        output = self.transformer_encoder(src, src_mask)\n",
    "        output = self.decoder(output)\n",
    "        return output"
   ]
  },
  {
   "cell_type": "markdown",
   "metadata": {},
   "source": [
    "##### PositionalEncoding\n",
    "\n",
    "PositionalEncoding module injects some information about the relative or absolute position of the tokens in the sequence. The positional encodings have the same dimension as the embeddings so that the two can be summed."
   ]
  },
  {
   "cell_type": "code",
   "execution_count": 2,
   "metadata": {},
   "outputs": [],
   "source": [
    "class PositionalEncoding(nn.Module):\n",
    "\n",
    "    def __init__(self, d_model, dropout=0.1, max_len=5000):\n",
    "        super(PositionalEncoding, self).__init__()\n",
    "        self.dropout = nn.Dropout(p=dropout)\n",
    "\n",
    "        pe = torch.zeros(max_len, d_model)\n",
    "        position = torch.arange(0, max_len, dtype=torch.float).unsqueeze(1)\n",
    "        div_term = torch.exp(torch.arange(0, d_model, 2).float() * (-math.log(10000.0) / d_model))\n",
    "        pe[:, 0::2] = torch.sin(position * div_term)\n",
    "        pe[:, 1::2] = torch.cos(position * div_term)\n",
    "        pe = pe.unsqueeze(0).transpose(0, 1)\n",
    "        self.register_buffer('pe', pe)\n",
    "\n",
    "    def forward(self, x):\n",
    "        x = x + self.pe[:x.size(0), :]\n",
    "        return self.dropout(x)"
   ]
  },
  {
   "cell_type": "markdown",
   "metadata": {},
   "source": [
    "### Load and batch data\n",
    "\n",
    "Data Source: https://s3.amazonaws.com/research.metamind.io/wikitext/wikitext-2-v1.zip\n",
    "\n",
    "This tutorial uses torchtext to generate Wikitext-2 dataset. The vocab object is built based on the train dataset and is used to numericalize tokens into tensors. Starting from sequential data, the batchify() function arranges the dataset into columns, trimming off any tokens remaining after the data has been divided into batches of size batch_size."
   ]
  },
  {
   "cell_type": "code",
   "execution_count": 6,
   "metadata": {},
   "outputs": [
    {
     "name": "stderr",
     "output_type": "stream",
     "text": [
      "36718lines [00:01, 21999.96lines/s]\n"
     ]
    }
   ],
   "source": [
    "import io\n",
    "import torch\n",
    "from torchtext.utils import download_from_url, extract_archive\n",
    "from torchtext.data.utils import get_tokenizer\n",
    "from torchtext.vocab import build_vocab_from_iterator\n",
    "\n",
    "data_in = 'D:\\\\ResearchDataGtx1060\\\\PracticeData\\\\wikitext-2-v1.zip'\n",
    "test_filepath, valid_filepath, train_filepath = extract_archive(data_in)\n",
    "tokenizer = get_tokenizer('basic_english')\n",
    "vocab = build_vocab_from_iterator(map(tokenizer,\n",
    "                                      iter(io.open(train_filepath,\n",
    "                                                   encoding=\"utf8\"))))\n",
    "\n",
    "def data_process(raw_text_iter):\n",
    "    data = [torch.tensor([vocab[token] for token in tokenizer(item)],\n",
    "                       dtype=torch.long) for item in raw_text_iter]\n",
    "    return torch.cat(tuple(filter(lambda t: t.numel() > 0, data)))\n",
    "\n",
    "train_data = data_process(iter(io.open(train_filepath, encoding=\"utf8\")))\n",
    "val_data = data_process(iter(io.open(valid_filepath, encoding=\"utf8\")))\n",
    "test_data = data_process(iter(io.open(test_filepath, encoding=\"utf8\")))\n",
    "\n",
    "device = torch.device(\"cuda\" if torch.cuda.is_available() else \"cpu\")\n",
    "\n",
    "def batchify(data, bsz):\n",
    "    # Divide the dataset into bsz parts.\n",
    "    nbatch = data.size(0) // bsz\n",
    "    # Trim off any extra elements that wouldn't cleanly fit (remainders).\n",
    "    data = data.narrow(0, 0, nbatch * bsz)\n",
    "    # Evenly divide the data across the bsz batches.\n",
    "    data = data.view(bsz, -1).t().contiguous()\n",
    "    return data.to(device)\n",
    "\n",
    "batch_size = 20\n",
    "eval_batch_size = 10\n",
    "train_data = batchify(train_data, batch_size)\n",
    "val_data = batchify(val_data, eval_batch_size)\n",
    "test_data = batchify(test_data, eval_batch_size)"
   ]
  },
  {
   "cell_type": "markdown",
   "metadata": {},
   "source": [
    "### Functions to generate input and target sequence\n",
    "\n",
    "get_batch() function generates the input and target sequence for the transformer model."
   ]
  },
  {
   "cell_type": "code",
   "execution_count": 8,
   "metadata": {},
   "outputs": [],
   "source": [
    "bptt = 35\n",
    "def get_batch(source, i):\n",
    "    seq_len = min(bptt, len(source) - 1 - i)\n",
    "    data = source[i:i+seq_len]\n",
    "    target = source[i+1:i+1+seq_len].reshape(-1)\n",
    "    return data, target"
   ]
  },
  {
   "cell_type": "markdown",
   "metadata": {},
   "source": [
    "### Initiate an instance\n",
    "\n",
    "The model is set up with the hyperparameter below. The vocab size is equal to the length of the vocab object."
   ]
  },
  {
   "cell_type": "code",
   "execution_count": 9,
   "metadata": {},
   "outputs": [],
   "source": [
    "ntokens = len(vocab.stoi) # the size of vocabulary\n",
    "emsize = 200 # embedding dimension\n",
    "nhid = 200 # the dimension of the feedforward network model in nn.TransformerEncoder\n",
    "nlayers = 2 # the number of nn.TransformerEncoderLayer in nn.TransformerEncoder\n",
    "nhead = 2 # the number of heads in the multiheadattention models\n",
    "dropout = 0.2 # the dropout value\n",
    "model = TransformerModel(ntokens, emsize, nhead, nhid, nlayers, dropout).to(device)"
   ]
  },
  {
   "cell_type": "markdown",
   "metadata": {},
   "source": [
    "### Run the model\n",
    "\n",
    "CrossEntropyLoss is applied to track the loss and SGD implements stochastic gradient descent method as the optimizer. The initial learning rate is set to 5.0. StepLR is applied to adjust the learn rate through epochs. During the training, we use nn.utils.clip_grad_norm_ function to scale all the gradient together to prevent exploding."
   ]
  },
  {
   "cell_type": "code",
   "execution_count": 10,
   "metadata": {},
   "outputs": [],
   "source": [
    "criterion = nn.CrossEntropyLoss()\n",
    "lr = 5.0 # learning rate\n",
    "optimizer = torch.optim.SGD(model.parameters(), lr=lr)\n",
    "scheduler = torch.optim.lr_scheduler.StepLR(optimizer, 1.0, gamma=0.95)\n",
    "\n",
    "import time\n",
    "def train():\n",
    "    model.train() # Turn on the train mode\n",
    "    total_loss = 0.\n",
    "    start_time = time.time()\n",
    "    src_mask = model.generate_square_subsequent_mask(bptt).to(device)\n",
    "    for batch, i in enumerate(range(0, train_data.size(0) - 1, bptt)):\n",
    "        data, targets = get_batch(train_data, i)\n",
    "        optimizer.zero_grad()\n",
    "        if data.size(0) != bptt:\n",
    "            src_mask = model.generate_square_subsequent_mask(data.size(0)).to(device)\n",
    "        output = model(data, src_mask)\n",
    "        loss = criterion(output.view(-1, ntokens), targets)\n",
    "        loss.backward()\n",
    "        torch.nn.utils.clip_grad_norm_(model.parameters(), 0.5)\n",
    "        optimizer.step()\n",
    "\n",
    "        total_loss += loss.item()\n",
    "        log_interval = 200\n",
    "        if batch % log_interval == 0 and batch > 0:\n",
    "            cur_loss = total_loss / log_interval\n",
    "            elapsed = time.time() - start_time\n",
    "            print('| epoch {:3d} | {:5d}/{:5d} batches | '\n",
    "                  'lr {:02.2f} | ms/batch {:5.2f} | '\n",
    "                  'loss {:5.2f} | ppl {:8.2f}'.format(\n",
    "                    epoch, batch, len(train_data) // bptt, scheduler.get_lr()[0],\n",
    "                    elapsed * 1000 / log_interval,\n",
    "                    cur_loss, math.exp(cur_loss)))\n",
    "            total_loss = 0\n",
    "            start_time = time.time()\n",
    "\n",
    "def evaluate(eval_model, data_source):\n",
    "    eval_model.eval() # Turn on the evaluation mode\n",
    "    total_loss = 0.\n",
    "    src_mask = model.generate_square_subsequent_mask(bptt).to(device)\n",
    "    with torch.no_grad():\n",
    "        for i in range(0, data_source.size(0) - 1, bptt):\n",
    "            data, targets = get_batch(data_source, i)\n",
    "            if data.size(0) != bptt:\n",
    "                src_mask = model.generate_square_subsequent_mask(data.size(0)).to(device)\n",
    "            output = eval_model(data, src_mask)\n",
    "            output_flat = output.view(-1, ntokens)\n",
    "            total_loss += len(data) * criterion(output_flat, targets).item()\n",
    "    return total_loss / (len(data_source) - 1)"
   ]
  },
  {
   "cell_type": "markdown",
   "metadata": {},
   "source": [
    "### Loop over epochs\n",
    "\n",
    "Loop over epochs. Save the model if the validation loss is the best we’ve seen so far. Adjust the learning rate after each epoch."
   ]
  },
  {
   "cell_type": "code",
   "execution_count": 11,
   "metadata": {},
   "outputs": [
    {
     "name": "stderr",
     "output_type": "stream",
     "text": [
      "C:\\Users\\User\\anaconda3\\lib\\site-packages\\torch\\optim\\lr_scheduler.py:369: UserWarning: To get the last learning rate computed by the scheduler, please use `get_last_lr()`.\n",
      "  warnings.warn(\"To get the last learning rate computed by the scheduler, \"\n"
     ]
    },
    {
     "name": "stdout",
     "output_type": "stream",
     "text": [
      "| epoch   1 |   200/ 2928 batches | lr 5.00 | ms/batch 463.58 | loss  8.23 | ppl  3755.45\n",
      "| epoch   1 |   400/ 2928 batches | lr 5.00 | ms/batch 454.96 | loss  6.92 | ppl  1011.07\n",
      "| epoch   1 |   600/ 2928 batches | lr 5.00 | ms/batch 453.03 | loss  6.47 | ppl   644.72\n",
      "| epoch   1 |   800/ 2928 batches | lr 5.00 | ms/batch 458.90 | loss  6.32 | ppl   554.32\n",
      "| epoch   1 |  1000/ 2928 batches | lr 5.00 | ms/batch 459.97 | loss  6.20 | ppl   492.59\n",
      "| epoch   1 |  1200/ 2928 batches | lr 5.00 | ms/batch 456.57 | loss  6.17 | ppl   478.21\n",
      "| epoch   1 |  1400/ 2928 batches | lr 5.00 | ms/batch 446.04 | loss  6.12 | ppl   455.51\n",
      "| epoch   1 |  1600/ 2928 batches | lr 5.00 | ms/batch 446.69 | loss  6.12 | ppl   454.06\n",
      "| epoch   1 |  1800/ 2928 batches | lr 5.00 | ms/batch 462.01 | loss  6.04 | ppl   419.22\n",
      "| epoch   1 |  2000/ 2928 batches | lr 5.00 | ms/batch 456.79 | loss  6.02 | ppl   413.29\n",
      "| epoch   1 |  2200/ 2928 batches | lr 5.00 | ms/batch 450.51 | loss  5.90 | ppl   364.32\n",
      "| epoch   1 |  2400/ 2928 batches | lr 5.00 | ms/batch 451.17 | loss  5.97 | ppl   391.34\n",
      "| epoch   1 |  2600/ 2928 batches | lr 5.00 | ms/batch 465.49 | loss  5.96 | ppl   385.71\n",
      "| epoch   1 |  2800/ 2928 batches | lr 5.00 | ms/batch 474.38 | loss  5.89 | ppl   359.89\n",
      "-----------------------------------------------------------------------------------------\n",
      "| end of epoch   1 | time: 1411.02s | valid loss  5.79 | valid ppl   325.39\n",
      "-----------------------------------------------------------------------------------------\n",
      "| epoch   2 |   200/ 2928 batches | lr 4.51 | ms/batch 489.99 | loss  5.87 | ppl   355.77\n",
      "| epoch   2 |   400/ 2928 batches | lr 4.51 | ms/batch 485.26 | loss  5.86 | ppl   350.35\n",
      "| epoch   2 |   600/ 2928 batches | lr 4.51 | ms/batch 484.31 | loss  5.68 | ppl   291.64\n",
      "| epoch   2 |   800/ 2928 batches | lr 4.51 | ms/batch 487.23 | loss  5.72 | ppl   303.42\n",
      "| epoch   2 |  1000/ 2928 batches | lr 4.51 | ms/batch 509.64 | loss  5.67 | ppl   289.31\n",
      "| epoch   2 |  1200/ 2928 batches | lr 4.51 | ms/batch 520.03 | loss  5.69 | ppl   297.33\n",
      "| epoch   2 |  1400/ 2928 batches | lr 4.51 | ms/batch 508.59 | loss  5.70 | ppl   299.83\n",
      "| epoch   2 |  1600/ 2928 batches | lr 4.51 | ms/batch 493.83 | loss  5.72 | ppl   305.51\n",
      "| epoch   2 |  1800/ 2928 batches | lr 4.51 | ms/batch 524.04 | loss  5.66 | ppl   288.49\n",
      "| epoch   2 |  2000/ 2928 batches | lr 4.51 | ms/batch 488.42 | loss  5.67 | ppl   290.83\n",
      "| epoch   2 |  2200/ 2928 batches | lr 4.51 | ms/batch 504.66 | loss  5.56 | ppl   259.28\n",
      "| epoch   2 |  2400/ 2928 batches | lr 4.51 | ms/batch 506.82 | loss  5.65 | ppl   284.88\n",
      "| epoch   2 |  2600/ 2928 batches | lr 4.51 | ms/batch 497.25 | loss  5.66 | ppl   286.16\n",
      "| epoch   2 |  2800/ 2928 batches | lr 4.51 | ms/batch 478.91 | loss  5.59 | ppl   268.06\n",
      "-----------------------------------------------------------------------------------------\n",
      "| end of epoch   2 | time: 1525.12s | valid loss  5.75 | valid ppl   313.43\n",
      "-----------------------------------------------------------------------------------------\n",
      "| epoch   3 |   200/ 2928 batches | lr 4.29 | ms/batch 470.73 | loss  5.61 | ppl   274.45\n",
      "| epoch   3 |   400/ 2928 batches | lr 4.29 | ms/batch 471.16 | loss  5.64 | ppl   280.54\n",
      "| epoch   3 |   600/ 2928 batches | lr 4.29 | ms/batch 499.18 | loss  5.45 | ppl   232.16\n",
      "| epoch   3 |   800/ 2928 batches | lr 4.29 | ms/batch 463.85 | loss  5.50 | ppl   244.45\n",
      "| epoch   3 |  1000/ 2928 batches | lr 4.29 | ms/batch 487.17 | loss  5.45 | ppl   231.88\n",
      "| epoch   3 |  1200/ 2928 batches | lr 4.29 | ms/batch 481.11 | loss  5.49 | ppl   242.81\n",
      "| epoch   3 |  1400/ 2928 batches | lr 4.29 | ms/batch 485.65 | loss  5.51 | ppl   248.11\n",
      "| epoch   3 |  1600/ 2928 batches | lr 4.29 | ms/batch 506.96 | loss  5.53 | ppl   252.02\n",
      "| epoch   3 |  1800/ 2928 batches | lr 4.29 | ms/batch 483.74 | loss  5.48 | ppl   239.87\n",
      "| epoch   3 |  2000/ 2928 batches | lr 4.29 | ms/batch 470.17 | loss  5.49 | ppl   243.14\n",
      "| epoch   3 |  2200/ 2928 batches | lr 4.29 | ms/batch 449.64 | loss  5.37 | ppl   214.69\n",
      "| epoch   3 |  2400/ 2928 batches | lr 4.29 | ms/batch 493.55 | loss  5.47 | ppl   237.30\n",
      "| epoch   3 |  2600/ 2928 batches | lr 4.29 | ms/batch 469.73 | loss  5.48 | ppl   239.89\n",
      "| epoch   3 |  2800/ 2928 batches | lr 4.29 | ms/batch 466.35 | loss  5.42 | ppl   225.05\n",
      "-----------------------------------------------------------------------------------------\n",
      "| end of epoch   3 | time: 1466.61s | valid loss  5.61 | valid ppl   272.33\n",
      "-----------------------------------------------------------------------------------------\n"
     ]
    }
   ],
   "source": [
    "best_val_loss = float(\"inf\")\n",
    "epochs = 3 # The number of epochs\n",
    "best_model = None\n",
    "\n",
    "for epoch in range(1, epochs + 1):\n",
    "    epoch_start_time = time.time()\n",
    "    train()\n",
    "    val_loss = evaluate(model, val_data)\n",
    "    print('-' * 89)\n",
    "    print('| end of epoch {:3d} | time: {:5.2f}s | valid loss {:5.2f} | '\n",
    "          'valid ppl {:8.2f}'.format(epoch, (time.time() - epoch_start_time),\n",
    "                                     val_loss, math.exp(val_loss)))\n",
    "    print('-' * 89)\n",
    "\n",
    "    if val_loss < best_val_loss:\n",
    "        best_val_loss = val_loss\n",
    "        best_model = model\n",
    "\n",
    "    scheduler.step()"
   ]
  },
  {
   "cell_type": "markdown",
   "metadata": {},
   "source": [
    "### Evaluate the model with the test dataset\n",
    "\n",
    "Apply the best model to check the result with the test dataset."
   ]
  },
  {
   "cell_type": "code",
   "execution_count": 12,
   "metadata": {},
   "outputs": [
    {
     "name": "stdout",
     "output_type": "stream",
     "text": [
      "=========================================================================================\n",
      "| End of training | test loss  5.51 | test ppl   247.17\n",
      "=========================================================================================\n"
     ]
    }
   ],
   "source": [
    "test_loss = evaluate(best_model, test_data)\n",
    "print('=' * 89)\n",
    "print('| End of training | test loss {:5.2f} | test ppl {:8.2f}'.format(\n",
    "    test_loss, math.exp(test_loss)))\n",
    "print('=' * 89)"
   ]
  },
  {
   "cell_type": "markdown",
   "metadata": {},
   "source": [
    "Reference: https://pytorch.org/tutorials/beginner/transformer_tutorial.html"
   ]
  }
 ],
 "metadata": {
  "kernelspec": {
   "display_name": "Python 3",
   "language": "python",
   "name": "python3"
  },
  "language_info": {
   "codemirror_mode": {
    "name": "ipython",
    "version": 3
   },
   "file_extension": ".py",
   "mimetype": "text/x-python",
   "name": "python",
   "nbconvert_exporter": "python",
   "pygments_lexer": "ipython3",
   "version": "3.8.5"
  }
 },
 "nbformat": 4,
 "nbformat_minor": 4
}
