{
  "nbformat": 4,
  "nbformat_minor": 0,
  "metadata": {
    "colab": {
      "name": "Abuse Detection using BERT COLAB.ipynb",
      "provenance": [],
      "collapsed_sections": []
    },
    "kernelspec": {
      "display_name": "Python 3",
      "name": "python3"
    },
    "accelerator": "GPU"
  },
  "cells": [
    {
      "cell_type": "markdown",
      "metadata": {
        "id": "iXy2E-8uHrZe"
      },
      "source": [
        "# Abuse Detection using BERT COLAB"
      ]
    },
    {
      "cell_type": "code",
      "metadata": {
        "id": "iAnlvvRBiHcQ"
      },
      "source": [
        "# Install Google Drive related libraries\n",
        "!pip install PyDrive"
      ],
      "execution_count": 2,
      "outputs": []
    },
    {
      "cell_type": "code",
      "metadata": {
        "id": "OTDTIFAmuf5K"
      },
      "source": [
        "# install ktrain on Google Colab\n",
        "!pip3 install ktrain"
      ],
      "execution_count": null,
      "outputs": []
    },
    {
      "cell_type": "code",
      "metadata": {
        "id": "B-WogiVqfddL"
      },
      "source": [
        "# Gooble Drive related libraries\n",
        "from pydrive.auth import GoogleAuth\n",
        "from pydrive.drive import GoogleDrive\n",
        "from google.colab import auth\n",
        "from oauth2client.client import GoogleCredentials\n",
        "\n",
        "# General libraries\n",
        "import pandas as pd\n",
        "import numpy as np\n",
        "\n",
        "# import speficic libraries\n",
        "import tensorflow as tf\n",
        "import ktrain \n",
        "from ktrain import text"
      ],
      "execution_count": 4,
      "outputs": []
    },
    {
      "cell_type": "code",
      "metadata": {
        "id": "7IlK8gCef3ro"
      },
      "source": [
        "# Authenticate Google Drive Use\n",
        "auth.authenticate_user()\n",
        "gauth = GoogleAuth()\n",
        "gauth.credentials = GoogleCredentials.get_application_default()\n",
        "drive = GoogleDrive(gauth)"
      ],
      "execution_count": 5,
      "outputs": []
    },
    {
      "cell_type": "code",
      "metadata": {
        "id": "iAv65ZSvi-6-"
      },
      "source": [
        "# Download file from Google Drive to Colab local machine\n",
        "# When a file in Google Drive is shared with link we get an ID in the link. We use this ID to download the file.\n",
        "downloaded = drive.CreateFile({'id':\"1L8_qOpO9e5ECr8e_TN49o9gTR94zh_8E\"})   # replace the id with id of file you want to access\n",
        "downloaded.GetContentFile('LearningLossModelQMI_5.csv')  # replace the file name with your file in Google Drive"
      ],
      "execution_count": 6,
      "outputs": []
    },
    {
      "cell_type": "code",
      "metadata": {
        "id": "n2j_wsVDkZyw"
      },
      "source": [
        "downloaded = drive.CreateFile({'id':\"1F-oAazFo01PPXlCk3qo6y_Djf0Gf21Tq\"})   # replace the id with id of file you want to access\n",
        "downloaded.GetContentFile('QmiTest.csv')  # replace the file name with your file in Google Drive"
      ],
      "execution_count": 7,
      "outputs": []
    },
    {
      "cell_type": "code",
      "metadata": {
        "id": "cmmq3CJKgW3U",
        "outputId": "8b43c915-d7cd-4b74-f369-fd064e26ea24",
        "colab": {
          "base_uri": "https://localhost:8080/",
          "height": 206
        }
      },
      "source": [
        "# Load training file from COLAB local machine\n",
        "df_train = pd.read_csv('LearningLossModelQMI_5.csv')\n",
        "df_train.head(5)"
      ],
      "execution_count": 8,
      "outputs": [
        {
          "output_type": "execute_result",
          "data": {
            "text/html": [
              "<div>\n",
              "<style scoped>\n",
              "    .dataframe tbody tr th:only-of-type {\n",
              "        vertical-align: middle;\n",
              "    }\n",
              "\n",
              "    .dataframe tbody tr th {\n",
              "        vertical-align: top;\n",
              "    }\n",
              "\n",
              "    .dataframe thead th {\n",
              "        text-align: right;\n",
              "    }\n",
              "</style>\n",
              "<table border=\"1\" class=\"dataframe\">\n",
              "  <thead>\n",
              "    <tr style=\"text-align: right;\">\n",
              "      <th></th>\n",
              "      <th>text</th>\n",
              "      <th>label</th>\n",
              "    </tr>\n",
              "  </thead>\n",
              "  <tbody>\n",
              "    <tr>\n",
              "      <th>0</th>\n",
              "      <td>my dad is a whore we were supposed to leave to...</td>\n",
              "      <td>0</td>\n",
              "    </tr>\n",
              "    <tr>\n",
              "      <th>1</th>\n",
              "      <td>xatp he did you a favor then . don ’ t need no...</td>\n",
              "      <td>1</td>\n",
              "    </tr>\n",
              "    <tr>\n",
              "      <th>2</th>\n",
              "      <td>xatp kill yourself you disgusting whore of a d...</td>\n",
              "      <td>1</td>\n",
              "    </tr>\n",
              "    <tr>\n",
              "      <th>3</th>\n",
              "      <td>xatp xatp do you feel hurt by slut shaming ! s...</td>\n",
              "      <td>0</td>\n",
              "    </tr>\n",
              "    <tr>\n",
              "      <th>4</th>\n",
              "      <td>`` i have those shoes ! take my shoes off , wh...</td>\n",
              "      <td>0</td>\n",
              "    </tr>\n",
              "  </tbody>\n",
              "</table>\n",
              "</div>"
            ],
            "text/plain": [
              "                                                text  label\n",
              "0  my dad is a whore we were supposed to leave to...      0\n",
              "1  xatp he did you a favor then . don ’ t need no...      1\n",
              "2  xatp kill yourself you disgusting whore of a d...      1\n",
              "3  xatp xatp do you feel hurt by slut shaming ! s...      0\n",
              "4  `` i have those shoes ! take my shoes off , wh...      0"
            ]
          },
          "metadata": {
            "tags": []
          },
          "execution_count": 8
        }
      ]
    },
    {
      "cell_type": "code",
      "metadata": {
        "id": "fW4E_tkrjcEo",
        "outputId": "91ba1121-5108-4500-aef4-12d93e0a98af",
        "colab": {
          "base_uri": "https://localhost:8080/",
          "height": 206
        }
      },
      "source": [
        "# Load testing file from COLAB local machine\n",
        "df_test = pd.read_csv('QmiTest.csv')\n",
        "df_test.head(5)"
      ],
      "execution_count": 9,
      "outputs": [
        {
          "output_type": "execute_result",
          "data": {
            "text/html": [
              "<div>\n",
              "<style scoped>\n",
              "    .dataframe tbody tr th:only-of-type {\n",
              "        vertical-align: middle;\n",
              "    }\n",
              "\n",
              "    .dataframe tbody tr th {\n",
              "        vertical-align: top;\n",
              "    }\n",
              "\n",
              "    .dataframe thead th {\n",
              "        text-align: right;\n",
              "    }\n",
              "</style>\n",
              "<table border=\"1\" class=\"dataframe\">\n",
              "  <thead>\n",
              "    <tr style=\"text-align: right;\">\n",
              "      <th></th>\n",
              "      <th>label</th>\n",
              "      <th>text</th>\n",
              "    </tr>\n",
              "  </thead>\n",
              "  <tbody>\n",
              "    <tr>\n",
              "      <th>0</th>\n",
              "      <td>1</td>\n",
              "      <td>@ winegirl73 2 bit attention seeking whore</td>\n",
              "    </tr>\n",
              "    <tr>\n",
              "      <th>1</th>\n",
              "      <td>0</td>\n",
              "      <td> i was dodging bullets in slow motion you slut </td>\n",
              "    </tr>\n",
              "    <tr>\n",
              "      <th>2</th>\n",
              "      <td>0</td>\n",
              "      <td>@ mayoroflondon sadiq khan-proud mayor of the ...</td>\n",
              "    </tr>\n",
              "    <tr>\n",
              "      <th>3</th>\n",
              "      <td>0</td>\n",
              "      <td>@ lewdpon3 i agree , you should definitely lea...</td>\n",
              "    </tr>\n",
              "    <tr>\n",
              "      <th>4</th>\n",
              "      <td>1</td>\n",
              "      <td>@ peoples_pundit @ fluffydogattack @ sengillib...</td>\n",
              "    </tr>\n",
              "  </tbody>\n",
              "</table>\n",
              "</div>"
            ],
            "text/plain": [
              "   label                                               text\n",
              "0      1         @ winegirl73 2 bit attention seeking whore\n",
              "1      0   i was dodging bullets in slow motion you slut \n",
              "2      0  @ mayoroflondon sadiq khan-proud mayor of the ...\n",
              "3      0  @ lewdpon3 i agree , you should definitely lea...\n",
              "4      1  @ peoples_pundit @ fluffydogattack @ sengillib..."
            ]
          },
          "metadata": {
            "tags": []
          },
          "execution_count": 9
        }
      ]
    },
    {
      "cell_type": "code",
      "metadata": {
        "id": "y-oyoHu8e0DU"
      },
      "source": [
        "import re\n",
        "import html\n",
        "\n",
        "class CleanTweets:\n",
        "  '''\n",
        "  This class has some simple data cleaning methods. \n",
        "  '''\n",
        "    def __init__(self):\n",
        "        self.BOS = 'xbos'  # beginning-of-sentence tag\n",
        "        self.FLD = 'xfld'  # data field tag\n",
        "        \n",
        "        self.XNEL = 'xnel' #non english occurence\n",
        "        self.XURL = 'xurl' #url occurence\n",
        "        self.XATP = 'xatp' #@Person occurance\n",
        "        self.XRTU = 'xrtu:' #retweet unmodified\n",
        "        self.XRTM = 'xrtm:' #retweet modified\n",
        "        \n",
        "        self.re1 = re.compile(r'  +')\n",
        "        \n",
        "    def cleanNonAscii(text):\n",
        "        '''\n",
        "        Remove Non ASCII characters from the dataset. Naive way to remove non english\n",
        "        Arguments:\n",
        "            text: str\n",
        "        returns: \n",
        "            text: str\n",
        "        '''\n",
        "        return ''.join(i for i in text if ord(i) < 128)\n",
        "        \n",
        "    \n",
        "    \n",
        "    def prepro_a_tweet(self, tweet):\n",
        "        \n",
        "        def fixup(x):\n",
        "            \"\"\" Cleans up erroroneus characters\"\"\"\n",
        "            x = x.replace('#39;', \"'\").replace('amp;', '&').replace('#146;', \"'\").replace(\n",
        "                'nbsp;', ' ').replace('#36;', '$').replace('\\\\n', \"\\n\").replace('quot;', \"'\").replace(\n",
        "                '<br />', \"\\n\").replace('\\\\\"', '\"').replace('<unk>','u_n').replace(' @.@ ','.').replace(\n",
        "                ' @-@ ','-').replace('\\\\', ' \\\\ ').replace('\\n', ' ').replace('\\t', ' ').replace('\\r', ' ').replace('rt @','@')\n",
        "            return self.re1.sub(' ', html.unescape(x))\n",
        "        \n",
        "        tweet = fixup(tweet)\n",
        "        tweet = re.sub(r'^RT @\\w+:', self.XRTU, tweet)\n",
        "        tweet = re.sub(r'^MRT @\\w+:', self.XRTM, tweet)\n",
        "        tweet = re.sub(r'@\\w+', self.XATP, tweet)\n",
        "        tweet = re.sub(r'http\\S+', self.XURL, tweet)\n",
        "        tweet = re.sub(r'(.)\\1+', r'\\1\\1', tweet).strip()\n",
        "        tweet = tweet.lower()\n",
        "        return tweet\n",
        "\n",
        "ct = CleanTweets()"
      ],
      "execution_count": 10,
      "outputs": []
    },
    {
      "cell_type": "code",
      "metadata": {
        "id": "Ma8ILHCuf63X"
      },
      "source": [
        "# Apply simple data cleaning to training set\n",
        "df_train['text'] = df_train['text'].apply(ct.prepro_a_tweet)\n",
        "df_train.head(5)"
      ],
      "execution_count": 11,
      "outputs": []
    },
    {
      "cell_type": "code",
      "metadata": {
        "id": "lpxL7B2Bgzlr"
      },
      "source": [
        "# Apply simple data cleaning to testing set\n",
        "df_test['text'] = df_test['text'].apply(ct.prepro_a_tweet)\n",
        "df_test.head(5)"
      ],
      "execution_count": null,
      "outputs": []
    },
    {
      "cell_type": "code",
      "metadata": {
        "id": "TYnykbNRpAkn"
      },
      "source": [
        "TEXT_FIELD = 'text'\n",
        "LABEL_FIELD = 'label'"
      ],
      "execution_count": 12,
      "outputs": []
    },
    {
      "cell_type": "code",
      "metadata": {
        "id": "LLCfOE91p1eV"
      },
      "source": [
        "# Seperate data to independent (X) and dependent (y) variables\n",
        "X_train, y_train = df_train[TEXT_FIELD].to_list(), df_train[LABEL_FIELD].to_list()\n",
        "X_test, y_test = df_test[TEXT_FIELD].to_list(), df_test[LABEL_FIELD].to_list()"
      ],
      "execution_count": 13,
      "outputs": []
    },
    {
      "cell_type": "code",
      "metadata": {
        "id": "MzkSPrdBsr_L",
        "outputId": "e462396c-e1cc-4ce2-c49e-6e31f277d75f",
        "colab": {
          "base_uri": "https://localhost:8080/",
          "height": 306
        }
      },
      "source": [
        "# Prepare data to model useable format and download pretrained model BERT\n",
        "(xtrain,  ytrain), (xtest, ytest), preproc = text.texts_from_array(x_train=X_train, y_train=y_train,\n",
        "                                                                       x_test=X_test, y_test=y_test,\n",
        "                                                                       class_names=[0, 1],\n",
        "                                                                       preprocess_mode='bert',\n",
        "                                                                       maxlen=350, \n",
        "                                                                       max_features=35000)"
      ],
      "execution_count": 14,
      "outputs": [
        {
          "output_type": "stream",
          "text": [
            "downloading pretrained BERT model (uncased_L-12_H-768_A-12.zip)...\n",
            "[██████████████████████████████████████████████████]\n",
            "extracting pretrained BERT model...\n",
            "done.\n",
            "\n",
            "cleanup downloaded zip...\n",
            "done.\n",
            "\n",
            "preprocessing train...\n",
            "language: en\n"
          ],
          "name": "stdout"
        },
        {
          "output_type": "display_data",
          "data": {
            "text/html": [
              "done."
            ],
            "text/plain": [
              "<IPython.core.display.HTML object>"
            ]
          },
          "metadata": {
            "tags": []
          }
        },
        {
          "output_type": "stream",
          "text": [
            "Is Multi-Label? False\n",
            "preprocessing test...\n",
            "language: en\n"
          ],
          "name": "stdout"
        },
        {
          "output_type": "display_data",
          "data": {
            "text/html": [
              "done."
            ],
            "text/plain": [
              "<IPython.core.display.HTML object>"
            ]
          },
          "metadata": {
            "tags": []
          }
        },
        {
          "output_type": "stream",
          "text": [
            "task: text classification\n"
          ],
          "name": "stdout"
        }
      ]
    },
    {
      "cell_type": "code",
      "metadata": {
        "id": "4CpVMzD7rp42",
        "outputId": "47fef147-54e8-4867-f417-404f30eb4a94",
        "colab": {
          "base_uri": "https://localhost:8080/"
        }
      },
      "source": [
        "# Creat the text classifier model with pretrained model BERT and prepared training data\n",
        "model = text.text_classifier(name='bert', train_data=(xtrain, ytrain), preproc=preproc)"
      ],
      "execution_count": 15,
      "outputs": [
        {
          "output_type": "stream",
          "text": [
            "Is Multi-Label? False\n",
            "maxlen is 350\n",
            "done.\n"
          ],
          "name": "stdout"
        }
      ]
    },
    {
      "cell_type": "code",
      "metadata": {
        "id": "asFzNGymvDlQ"
      },
      "source": [
        "# get learning to train the text classifer model\n",
        "learner = ktrain.get_learner(model=model,\n",
        "                             train_data = (xtrain, ytrain),\n",
        "                             val_data = (xtest, ytest),\n",
        "                             batch_size = 6)"
      ],
      "execution_count": 16,
      "outputs": []
    },
    {
      "cell_type": "code",
      "metadata": {
        "id": "I93eh0E8vQ0z",
        "outputId": "e5b87e2f-8720-4473-9ebd-7b6cd8fd85af",
        "colab": {
          "base_uri": "https://localhost:8080/"
        }
      },
      "source": [
        "# fit the model one cycle\n",
        "learner.fit_onecycle(lr=2e-5, epochs=1)"
      ],
      "execution_count": 17,
      "outputs": [
        {
          "output_type": "stream",
          "text": [
            "\n",
            "\n",
            "begin training using onecycle policy with max lr of 2e-05...\n",
            "500/500 [==============================] - 391s 783ms/step - loss: 0.4998 - accuracy: 0.7547 - val_loss: 0.5469 - val_accuracy: 0.7099\n"
          ],
          "name": "stdout"
        },
        {
          "output_type": "execute_result",
          "data": {
            "text/plain": [
              "<tensorflow.python.keras.callbacks.History at 0x7fc102154240>"
            ]
          },
          "metadata": {
            "tags": []
          },
          "execution_count": 17
        }
      ]
    },
    {
      "cell_type": "code",
      "metadata": {
        "id": "vUBkh3u6v9CQ"
      },
      "source": [
        "# creat a predictor to predict on unknown data\n",
        "predictor = ktrain.get_predictor(learner.model, preproc)"
      ],
      "execution_count": 18,
      "outputs": []
    },
    {
      "cell_type": "code",
      "metadata": {
        "id": "SZLUdjy8wVvb",
        "outputId": "6851c803-b779-45ac-be79-89bb0cbaa402",
        "colab": {
          "base_uri": "https://localhost:8080/"
        }
      },
      "source": [
        "predictor.get_classes()"
      ],
      "execution_count": 19,
      "outputs": [
        {
          "output_type": "execute_result",
          "data": {
            "text/plain": [
              "[0, 1]"
            ]
          },
          "metadata": {
            "tags": []
          },
          "execution_count": 19
        }
      ]
    },
    {
      "cell_type": "code",
      "metadata": {
        "id": "qCiE-0vQwd_U",
        "outputId": "81aafcb2-75cf-4c49-e044-ed426dcbb319",
        "colab": {
          "base_uri": "https://localhost:8080/",
          "height": 17
        }
      },
      "source": [
        "# predict on unknown data\n",
        "predicted = predictor.predict(X_test)"
      ],
      "execution_count": 20,
      "outputs": [
        {
          "output_type": "display_data",
          "data": {
            "text/html": [
              ""
            ],
            "text/plain": [
              "<IPython.core.display.HTML object>"
            ]
          },
          "metadata": {
            "tags": []
          }
        }
      ]
    },
    {
      "cell_type": "code",
      "metadata": {
        "id": "9J56gVQCw2Ls"
      },
      "source": [
        "# let's save the predictor for later use\n",
        "predictor.save('/tmp/my_predictor')"
      ],
      "execution_count": 21,
      "outputs": []
    },
    {
      "cell_type": "code",
      "metadata": {
        "id": "GynVtgVQw4Gm"
      },
      "source": [
        "# reload the predictor\n",
        "reloaded_predictor = ktrain.load_predictor('/tmp/my_predictor')"
      ],
      "execution_count": 22,
      "outputs": []
    },
    {
      "cell_type": "code",
      "metadata": {
        "id": "mMu079Ktw6nQ",
        "outputId": "6d3f66ce-c50b-41af-9547-8015b23a7b5c",
        "colab": {
          "base_uri": "https://localhost:8080/",
          "height": 35
        }
      },
      "source": [
        "# make a prediction on the same document to verify it still works\n",
        "reloaded_predictor.predict(X_test[0:10])"
      ],
      "execution_count": 23,
      "outputs": [
        {
          "output_type": "display_data",
          "data": {
            "text/html": [
              ""
            ],
            "text/plain": [
              "<IPython.core.display.HTML object>"
            ]
          },
          "metadata": {
            "tags": []
          }
        },
        {
          "output_type": "execute_result",
          "data": {
            "text/plain": [
              "[0, 0, 0, 0, 0, 0, 0, 0, 1, 0]"
            ]
          },
          "metadata": {
            "tags": []
          },
          "execution_count": 23
        }
      ]
    }
  ]
}