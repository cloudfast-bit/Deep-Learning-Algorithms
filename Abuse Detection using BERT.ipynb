{
 "cells": [
  {
   "cell_type": "markdown",
   "metadata": {},
   "source": [
    "### Install library"
   ]
  },
  {
   "cell_type": "code",
   "execution_count": 1,
   "metadata": {},
   "outputs": [
    {
     "name": "stdout",
     "output_type": "stream",
     "text": [
      "Collecting ktrain\n",
      "Requirement already satisfied: matplotlib>=3.0.0 in /home/basharm/.local/lib/python3.7/site-packages (from ktrain) (3.1.0)\n",
      "Requirement already satisfied: requests in /home/basharm/.local/lib/python3.7/site-packages (from ktrain) (2.22.0)\n",
      "Requirement already satisfied: fastprogress>=0.1.21 in /home/basharm/.local/lib/python3.7/site-packages (from ktrain) (0.1.21)\n",
      "Collecting seqeval==0.0.19 (from ktrain)\n",
      "Collecting transformers>=3.1.0 (from ktrain)\n",
      "  Using cached https://files.pythonhosted.org/packages/3a/83/e74092e7f24a08d751aa59b37a9fc572b2e4af3918cb66f7766c3affb1b4/transformers-3.5.1-py3-none-any.whl\n",
      "Collecting cchardet (from ktrain)\n",
      "  Using cached https://files.pythonhosted.org/packages/80/72/a4fba7559978de00cf44081c548c5d294bf00ac7dcda2db405d2baa8c67a/cchardet-2.1.7-cp37-cp37m-manylinux2010_x86_64.whl\n",
      "Collecting bokeh (from ktrain)\n",
      "Requirement already satisfied: packaging in /home/basharm/.local/lib/python3.7/site-packages (from ktrain) (19.0)\n",
      "Collecting networkx>=2.3 (from ktrain)\n",
      "  Using cached https://files.pythonhosted.org/packages/9b/cd/dc52755d30ba41c60243235460961fc28022e5b6731f16c268667625baea/networkx-2.5-py3-none-any.whl\n",
      "Requirement already satisfied: joblib in /home/basharm/.local/lib/python3.7/site-packages (from ktrain) (0.13.2)\n",
      "Requirement already satisfied: langdetect in /home/basharm/.local/lib/python3.7/site-packages (from ktrain) (1.0.8)\n",
      "Collecting pandas>=1.0.1 (from ktrain)\n",
      "  Using cached https://files.pythonhosted.org/packages/bf/4c/cb7da76f3a5e077e545f9cf8575b8f488a4e8ad60490838f89c5cdd5bb57/pandas-1.1.4-cp37-cp37m-manylinux1_x86_64.whl\n",
      "Collecting jieba (from ktrain)\n",
      "Collecting syntok (from ktrain)\n",
      "Collecting whoosh (from ktrain)\n",
      "  Using cached https://files.pythonhosted.org/packages/ba/19/24d0f1f454a2c1eb689ca28d2f178db81e5024f42d82729a4ff6771155cf/Whoosh-2.7.4-py2.py3-none-any.whl\n",
      "Collecting scikit-learn>=0.21.3 (from ktrain)\n",
      "  Using cached https://files.pythonhosted.org/packages/f4/cb/64623369f348e9bfb29ff898a57ac7c91ed4921f228e9726546614d63ccb/scikit_learn-0.23.2-cp37-cp37m-manylinux1_x86_64.whl\n",
      "Collecting keras-bert>=0.86.0 (from ktrain)\n",
      "Requirement already satisfied: ipython in /home/basharm/.local/lib/python3.7/site-packages (from ktrain) (7.5.0)\n",
      "Requirement already satisfied: kiwisolver>=1.0.1 in /home/basharm/.local/lib/python3.7/site-packages (from matplotlib>=3.0.0->ktrain) (1.1.0)\n",
      "Requirement already satisfied: pyparsing!=2.0.4,!=2.1.2,!=2.1.6,>=2.0.1 in /pkg/suse12/software/python/3.7.2-foss-2018a/lib/python3.7/site-packages/pyparsing-2.3.1-py3.7.egg (from matplotlib>=3.0.0->ktrain) (2.3.1)\n",
      "Requirement already satisfied: python-dateutil>=2.1 in /pkg/suse12/software/python/3.7.2-foss-2018a/lib/python3.7/site-packages/python_dateutil-2.7.5-py3.7.egg (from matplotlib>=3.0.0->ktrain) (2.7.5)\n",
      "Requirement already satisfied: numpy>=1.11 in /pkg/suse12/software/python/3.7.2-foss-2018a/lib/python3.7/site-packages/numpy-1.16.1-py3.7-linux-x86_64.egg (from matplotlib>=3.0.0->ktrain) (1.16.1)\n",
      "Requirement already satisfied: cycler>=0.10 in /home/basharm/.local/lib/python3.7/site-packages (from matplotlib>=3.0.0->ktrain) (0.10.0)\n",
      "Requirement already satisfied: idna<2.9,>=2.5 in /home/basharm/.local/lib/python3.7/site-packages (from requests->ktrain) (2.8)\n",
      "Requirement already satisfied: chardet<3.1.0,>=3.0.2 in /home/basharm/.local/lib/python3.7/site-packages (from requests->ktrain) (3.0.4)\n",
      "Requirement already satisfied: certifi>=2017.4.17 in /home/basharm/.local/lib/python3.7/site-packages (from requests->ktrain) (2019.3.9)\n",
      "Requirement already satisfied: urllib3!=1.25.0,!=1.25.1,<1.26,>=1.21.1 in /home/basharm/.local/lib/python3.7/site-packages (from requests->ktrain) (1.25.3)\n",
      "Requirement already satisfied: Keras>=2.2.4 in /home/basharm/.local/lib/python3.7/site-packages (from seqeval==0.0.19->ktrain) (2.4.3)\n",
      "Requirement already satisfied: protobuf in /home/basharm/.local/lib/python3.7/site-packages (from transformers>=3.1.0->ktrain) (3.13.0)\n",
      "Collecting sentencepiece==0.1.91 (from transformers>=3.1.0->ktrain)\n",
      "  Using cached https://files.pythonhosted.org/packages/f2/e2/813dff3d72df2f49554204e7e5f73a3dc0f0eb1e3958a4cad3ef3fb278b7/sentencepiece-0.1.91-cp37-cp37m-manylinux1_x86_64.whl\n",
      "Collecting filelock (from transformers>=3.1.0->ktrain)\n",
      "  Using cached https://files.pythonhosted.org/packages/93/83/71a2ee6158bb9f39a90c0dea1637f81d5eef866e188e1971a1b1ab01a35a/filelock-3.0.12-py3-none-any.whl\n",
      "Collecting tokenizers==0.9.3 (from transformers>=3.1.0->ktrain)\n",
      "  Using cached https://files.pythonhosted.org/packages/7b/ac/f5ba028f0f097d855e1541301e946d4672eb0f30b6e25cb2369075f916d2/tokenizers-0.9.3-cp37-cp37m-manylinux1_x86_64.whl\n",
      "Requirement already satisfied: tqdm>=4.27 in /home/basharm/.local/lib/python3.7/site-packages (from transformers>=3.1.0->ktrain) (4.32.1)\n",
      "Collecting regex!=2019.12.17 (from transformers>=3.1.0->ktrain)\n",
      "  Using cached https://files.pythonhosted.org/packages/20/28/ff0d0936a31f15a0879caf6dac1f1cbaab1fc7b9e8baf8a1d5a70380fb22/regex-2020.11.13-cp37-cp37m-manylinux2010_x86_64.whl\n",
      "Collecting sacremoses (from transformers>=3.1.0->ktrain)\n",
      "Requirement already satisfied: Jinja2>=2.7 in /home/basharm/.local/lib/python3.7/site-packages (from bokeh->ktrain) (2.10.1)\n",
      "Requirement already satisfied: PyYAML>=3.10 in /home/basharm/.local/lib/python3.7/site-packages (from bokeh->ktrain) (5.1.1)\n",
      "Requirement already satisfied: typing-extensions>=3.7.4 in /home/basharm/.local/lib/python3.7/site-packages (from bokeh->ktrain) (3.7.4.3)\n",
      "Requirement already satisfied: tornado>=5.1 in /home/basharm/.local/lib/python3.7/site-packages (from bokeh->ktrain) (6.0.2)\n",
      "Collecting pillow>=7.1.0 (from bokeh->ktrain)\n",
      "  Using cached https://files.pythonhosted.org/packages/af/fa/c1302a26d5e1a17fa8e10e43417b6cf038b0648c4b79fcf2302a4a0c5d30/Pillow-8.0.1-cp37-cp37m-manylinux1_x86_64.whl\n",
      "Requirement already satisfied: six in /pkg/suse12/software/python/3.7.2-foss-2018a/lib/python3.7/site-packages/six-1.12.0-py3.7.egg (from packaging->ktrain) (1.12.0)\n",
      "Requirement already satisfied: decorator>=4.3.0 in /pkg/suse12/software/python/3.7.2-foss-2018a/lib/python3.7/site-packages/decorator-4.3.2-py3.7.egg (from networkx>=2.3->ktrain) (4.3.2)\n",
      "Requirement already satisfied: pytz>=2017.2 in /pkg/suse12/software/python/3.7.2-foss-2018a/lib/python3.7/site-packages/pytz-2018.9-py3.7.egg (from pandas>=1.0.1->ktrain) (2018.9)\n",
      "Collecting threadpoolctl>=2.0.0 (from scikit-learn>=0.21.3->ktrain)\n",
      "  Using cached https://files.pythonhosted.org/packages/f7/12/ec3f2e203afa394a149911729357aa48affc59c20e2c1c8297a60f33f133/threadpoolctl-2.1.0-py3-none-any.whl\n",
      "Requirement already satisfied: scipy>=0.19.1 in /pkg/suse12/software/python/3.7.2-foss-2018a/lib/python3.7/site-packages/scipy-1.2.0-py3.7-linux-x86_64.egg (from scikit-learn>=0.21.3->ktrain) (1.2.0)\n",
      "Collecting keras-transformer>=0.38.0 (from keras-bert>=0.86.0->ktrain)\n",
      "Requirement already satisfied: pygments in /home/basharm/.local/lib/python3.7/site-packages (from ipython->ktrain) (2.4.2)\n",
      "Requirement already satisfied: traitlets>=4.2 in /home/basharm/.local/lib/python3.7/site-packages (from ipython->ktrain) (4.3.2)\n",
      "Requirement already satisfied: pickleshare in /home/basharm/.local/lib/python3.7/site-packages (from ipython->ktrain) (0.7.5)\n",
      "Requirement already satisfied: setuptools>=18.5 in /home/basharm/.local/lib/python3.7/site-packages (from ipython->ktrain) (50.3.0)\n",
      "Requirement already satisfied: prompt-toolkit<2.1.0,>=2.0.0 in /home/basharm/.local/lib/python3.7/site-packages (from ipython->ktrain) (2.0.9)\n",
      "Requirement already satisfied: pexpect; sys_platform != \"win32\" in /home/basharm/.local/lib/python3.7/site-packages (from ipython->ktrain) (4.7.0)\n",
      "Requirement already satisfied: jedi>=0.10 in /home/basharm/.local/lib/python3.7/site-packages (from ipython->ktrain) (0.13.3)\n",
      "Requirement already satisfied: backcall in /home/basharm/.local/lib/python3.7/site-packages (from ipython->ktrain) (0.1.0)\n",
      "Requirement already satisfied: h5py in /home/basharm/.local/lib/python3.7/site-packages (from Keras>=2.2.4->seqeval==0.0.19->ktrain) (2.10.0)\n",
      "Collecting click (from sacremoses->transformers>=3.1.0->ktrain)\n",
      "  Using cached https://files.pythonhosted.org/packages/d2/3d/fa76db83bf75c4f8d338c2fd15c8d33fdd7ad23a9b5e57eb6c5de26b430e/click-7.1.2-py2.py3-none-any.whl\n"
     ]
    },
    {
     "name": "stdout",
     "output_type": "stream",
     "text": [
      "Requirement already satisfied: MarkupSafe>=0.23 in /home/basharm/.local/lib/python3.7/site-packages (from Jinja2>=2.7->bokeh->ktrain) (1.1.1)\n",
      "Collecting keras-multi-head>=0.27.0 (from keras-transformer>=0.38.0->keras-bert>=0.86.0->ktrain)\n",
      "Collecting keras-position-wise-feed-forward>=0.6.0 (from keras-transformer>=0.38.0->keras-bert>=0.86.0->ktrain)\n",
      "Collecting keras-layer-normalization>=0.14.0 (from keras-transformer>=0.38.0->keras-bert>=0.86.0->ktrain)\n",
      "Collecting keras-embed-sim>=0.8.0 (from keras-transformer>=0.38.0->keras-bert>=0.86.0->ktrain)\n",
      "Collecting keras-pos-embd>=0.11.0 (from keras-transformer>=0.38.0->keras-bert>=0.86.0->ktrain)\n",
      "Requirement already satisfied: ipython-genutils in /home/basharm/.local/lib/python3.7/site-packages (from traitlets>=4.2->ipython->ktrain) (0.2.0)\n",
      "Requirement already satisfied: wcwidth in /home/basharm/.local/lib/python3.7/site-packages (from prompt-toolkit<2.1.0,>=2.0.0->ipython->ktrain) (0.1.7)\n",
      "Requirement already satisfied: ptyprocess>=0.5 in /home/basharm/.local/lib/python3.7/site-packages (from pexpect; sys_platform != \"win32\"->ipython->ktrain) (0.6.0)\n",
      "Requirement already satisfied: parso>=0.3.0 in /home/basharm/.local/lib/python3.7/site-packages (from jedi>=0.10->ipython->ktrain) (0.4.0)\n",
      "Collecting keras-self-attention==0.46.0 (from keras-multi-head>=0.27.0->keras-transformer>=0.38.0->keras-bert>=0.86.0->ktrain)\n",
      "Installing collected packages: seqeval, sentencepiece, filelock, tokenizers, regex, click, sacremoses, transformers, cchardet, pillow, bokeh, networkx, pandas, jieba, syntok, whoosh, threadpoolctl, scikit-learn, keras-self-attention, keras-multi-head, keras-position-wise-feed-forward, keras-layer-normalization, keras-embed-sim, keras-pos-embd, keras-transformer, keras-bert, ktrain\n",
      "\u001b[33m  The script sacremoses is installed in '/home/basharm/.local/bin' which is not on PATH.\n",
      "  Consider adding this directory to PATH or, if you prefer to suppress this warning, use --no-warn-script-location.\u001b[0m\n",
      "\u001b[33m  The script transformers-cli is installed in '/home/basharm/.local/bin' which is not on PATH.\n",
      "  Consider adding this directory to PATH or, if you prefer to suppress this warning, use --no-warn-script-location.\u001b[0m\n",
      "  Found existing installation: Pillow 6.0.0\n",
      "    Uninstalling Pillow-6.0.0:\n",
      "      Successfully uninstalled Pillow-6.0.0\n",
      "\u001b[33m  The script bokeh is installed in '/home/basharm/.local/bin' which is not on PATH.\n",
      "  Consider adding this directory to PATH or, if you prefer to suppress this warning, use --no-warn-script-location.\u001b[0m\n",
      "  Found existing installation: scikit-learn 0.19.2\n",
      "    Uninstalling scikit-learn-0.19.2:\n",
      "      Successfully uninstalled scikit-learn-0.19.2\n",
      "Successfully installed bokeh-2.2.3 cchardet-2.1.7 click-7.1.2 filelock-3.0.12 jieba-0.42.1 keras-bert-0.86.0 keras-embed-sim-0.8.0 keras-layer-normalization-0.14.0 keras-multi-head-0.27.0 keras-pos-embd-0.11.0 keras-position-wise-feed-forward-0.6.0 keras-self-attention-0.46.0 keras-transformer-0.38.0 ktrain-0.25.0 networkx-2.5 pandas-1.1.4 pillow-8.0.1 regex-2020.11.13 sacremoses-0.0.43 scikit-learn-0.23.2 sentencepiece-0.1.91 seqeval-0.0.19 syntok-1.3.1 threadpoolctl-2.1.0 tokenizers-0.9.3 transformers-3.5.1 whoosh-2.7.4\n"
     ]
    }
   ],
   "source": [
    "# !pip3 install ktrain --user"
   ]
  },
  {
   "cell_type": "markdown",
   "metadata": {},
   "source": [
    "### Import Libraries"
   ]
  },
  {
   "cell_type": "code",
   "execution_count": 6,
   "metadata": {},
   "outputs": [],
   "source": [
    "# General libraries\n",
    "import pandas as pd\n",
    "import numpy as np\n",
    "\n",
    "# import speficic libraries\n",
    "import tensorflow as tf\n",
    "import ktrain # Ktrain is a \"Lightweight Wrapper\" for Keras to Help Train Neural Networks\n",
    "from ktrain import text\n",
    "\n",
    "# custom libraries\n",
    "from simple_clean import CleanTweets\n",
    "from evaluate_classification import EvaluateBinaryClassification"
   ]
  },
  {
   "cell_type": "code",
   "execution_count": 7,
   "metadata": {},
   "outputs": [],
   "source": [
    "# Declare Reload Magic Function\n",
    "%reload_ext autoreload\n",
    "%autoreload 2\n",
    "%matplotlib inline"
   ]
  },
  {
   "cell_type": "code",
   "execution_count": 8,
   "metadata": {},
   "outputs": [],
   "source": [
    "# Initialise Random Variables\n",
    "SEED = 123\n",
    "np.random.seed(SEED)"
   ]
  },
  {
   "cell_type": "markdown",
   "metadata": {},
   "source": [
    "### Load Data"
   ]
  },
  {
   "cell_type": "code",
   "execution_count": 3,
   "metadata": {},
   "outputs": [
    {
     "data": {
      "text/html": [
       "<div>\n",
       "<style scoped>\n",
       "    .dataframe tbody tr th:only-of-type {\n",
       "        vertical-align: middle;\n",
       "    }\n",
       "\n",
       "    .dataframe tbody tr th {\n",
       "        vertical-align: top;\n",
       "    }\n",
       "\n",
       "    .dataframe thead th {\n",
       "        text-align: right;\n",
       "    }\n",
       "</style>\n",
       "<table border=\"1\" class=\"dataframe\">\n",
       "  <thead>\n",
       "    <tr style=\"text-align: right;\">\n",
       "      <th></th>\n",
       "      <th>text</th>\n",
       "      <th>label</th>\n",
       "    </tr>\n",
       "  </thead>\n",
       "  <tbody>\n",
       "    <tr>\n",
       "      <th>0</th>\n",
       "      <td>my dad is a whore we were supposed to leave to...</td>\n",
       "      <td>0</td>\n",
       "    </tr>\n",
       "    <tr>\n",
       "      <th>1</th>\n",
       "      <td>xatp he did you a favor then . don ’ t need no...</td>\n",
       "      <td>1</td>\n",
       "    </tr>\n",
       "    <tr>\n",
       "      <th>2</th>\n",
       "      <td>xatp kill yourself you disgusting whore of a d...</td>\n",
       "      <td>1</td>\n",
       "    </tr>\n",
       "    <tr>\n",
       "      <th>3</th>\n",
       "      <td>xatp xatp do you feel hurt by slut shaming ! s...</td>\n",
       "      <td>0</td>\n",
       "    </tr>\n",
       "    <tr>\n",
       "      <th>4</th>\n",
       "      <td>`` i have those shoes ! take my shoes off , wh...</td>\n",
       "      <td>0</td>\n",
       "    </tr>\n",
       "  </tbody>\n",
       "</table>\n",
       "</div>"
      ],
      "text/plain": [
       "                                                text  label\n",
       "0  my dad is a whore we were supposed to leave to...      0\n",
       "1  xatp he did you a favor then . don ’ t need no...      1\n",
       "2  xatp kill yourself you disgusting whore of a d...      1\n",
       "3  xatp xatp do you feel hurt by slut shaming ! s...      0\n",
       "4  `` i have those shoes ! take my shoes off , wh...      0"
      ]
     },
     "execution_count": 3,
     "metadata": {},
     "output_type": "execute_result"
    }
   ],
   "source": [
    "df_train = pd.read_csv('LearningLossModelQMI_5.csv')\n",
    "df_train.head(5)"
   ]
  },
  {
   "cell_type": "code",
   "execution_count": 4,
   "metadata": {},
   "outputs": [
    {
     "data": {
      "text/html": [
       "<div>\n",
       "<style scoped>\n",
       "    .dataframe tbody tr th:only-of-type {\n",
       "        vertical-align: middle;\n",
       "    }\n",
       "\n",
       "    .dataframe tbody tr th {\n",
       "        vertical-align: top;\n",
       "    }\n",
       "\n",
       "    .dataframe thead th {\n",
       "        text-align: right;\n",
       "    }\n",
       "</style>\n",
       "<table border=\"1\" class=\"dataframe\">\n",
       "  <thead>\n",
       "    <tr style=\"text-align: right;\">\n",
       "      <th></th>\n",
       "      <th>label</th>\n",
       "      <th>text</th>\n",
       "    </tr>\n",
       "  </thead>\n",
       "  <tbody>\n",
       "    <tr>\n",
       "      <th>0</th>\n",
       "      <td>1</td>\n",
       "      <td>@ winegirl73 2 bit attention seeking whore</td>\n",
       "    </tr>\n",
       "    <tr>\n",
       "      <th>1</th>\n",
       "      <td>0</td>\n",
       "      <td> i was dodging bullets in slow motion you slut </td>\n",
       "    </tr>\n",
       "    <tr>\n",
       "      <th>2</th>\n",
       "      <td>0</td>\n",
       "      <td>@ mayoroflondon sadiq khan-proud mayor of the ...</td>\n",
       "    </tr>\n",
       "    <tr>\n",
       "      <th>3</th>\n",
       "      <td>0</td>\n",
       "      <td>@ lewdpon3 i agree , you should definitely lea...</td>\n",
       "    </tr>\n",
       "    <tr>\n",
       "      <th>4</th>\n",
       "      <td>1</td>\n",
       "      <td>@ peoples_pundit @ fluffydogattack @ sengillib...</td>\n",
       "    </tr>\n",
       "  </tbody>\n",
       "</table>\n",
       "</div>"
      ],
      "text/plain": [
       "   label                                               text\n",
       "0      1         @ winegirl73 2 bit attention seeking whore\n",
       "1      0   i was dodging bullets in slow motion you slut \n",
       "2      0  @ mayoroflondon sadiq khan-proud mayor of the ...\n",
       "3      0  @ lewdpon3 i agree , you should definitely lea...\n",
       "4      1  @ peoples_pundit @ fluffydogattack @ sengillib..."
      ]
     },
     "execution_count": 4,
     "metadata": {},
     "output_type": "execute_result"
    }
   ],
   "source": [
    "df_test = pd.read_csv('QmiTest.csv')\n",
    "df_test.head(5)"
   ]
  },
  {
   "cell_type": "code",
   "execution_count": 9,
   "metadata": {},
   "outputs": [
    {
     "data": {
      "text/html": [
       "<div>\n",
       "<style scoped>\n",
       "    .dataframe tbody tr th:only-of-type {\n",
       "        vertical-align: middle;\n",
       "    }\n",
       "\n",
       "    .dataframe tbody tr th {\n",
       "        vertical-align: top;\n",
       "    }\n",
       "\n",
       "    .dataframe thead th {\n",
       "        text-align: right;\n",
       "    }\n",
       "</style>\n",
       "<table border=\"1\" class=\"dataframe\">\n",
       "  <thead>\n",
       "    <tr style=\"text-align: right;\">\n",
       "      <th></th>\n",
       "      <th>text</th>\n",
       "      <th>label</th>\n",
       "    </tr>\n",
       "  </thead>\n",
       "  <tbody>\n",
       "    <tr>\n",
       "      <th>0</th>\n",
       "      <td>my dad is a whore we were supposed to leave to...</td>\n",
       "      <td>0</td>\n",
       "    </tr>\n",
       "    <tr>\n",
       "      <th>1</th>\n",
       "      <td>xatp he did you a favor then . don ’ t need no...</td>\n",
       "      <td>1</td>\n",
       "    </tr>\n",
       "    <tr>\n",
       "      <th>2</th>\n",
       "      <td>xatp kill yourself you disgusting whore of a d...</td>\n",
       "      <td>1</td>\n",
       "    </tr>\n",
       "    <tr>\n",
       "      <th>3</th>\n",
       "      <td>xatp xatp do you feel hurt by slut shaming ! s...</td>\n",
       "      <td>0</td>\n",
       "    </tr>\n",
       "    <tr>\n",
       "      <th>4</th>\n",
       "      <td>`` i have those shoes ! take my shoes off , wh...</td>\n",
       "      <td>0</td>\n",
       "    </tr>\n",
       "  </tbody>\n",
       "</table>\n",
       "</div>"
      ],
      "text/plain": [
       "                                                text  label\n",
       "0  my dad is a whore we were supposed to leave to...      0\n",
       "1  xatp he did you a favor then . don ’ t need no...      1\n",
       "2  xatp kill yourself you disgusting whore of a d...      1\n",
       "3  xatp xatp do you feel hurt by slut shaming ! s...      0\n",
       "4  `` i have those shoes ! take my shoes off , wh...      0"
      ]
     },
     "execution_count": 9,
     "metadata": {},
     "output_type": "execute_result"
    }
   ],
   "source": [
    "ct = CleanTweets()\n",
    "df_train['text'] = df_train['text'].apply(ct.prepro_a_tweet)\n",
    "df_train.head(5)"
   ]
  },
  {
   "cell_type": "code",
   "execution_count": 11,
   "metadata": {},
   "outputs": [
    {
     "data": {
      "text/html": [
       "<div>\n",
       "<style scoped>\n",
       "    .dataframe tbody tr th:only-of-type {\n",
       "        vertical-align: middle;\n",
       "    }\n",
       "\n",
       "    .dataframe tbody tr th {\n",
       "        vertical-align: top;\n",
       "    }\n",
       "\n",
       "    .dataframe thead th {\n",
       "        text-align: right;\n",
       "    }\n",
       "</style>\n",
       "<table border=\"1\" class=\"dataframe\">\n",
       "  <thead>\n",
       "    <tr style=\"text-align: right;\">\n",
       "      <th></th>\n",
       "      <th>label</th>\n",
       "      <th>text</th>\n",
       "    </tr>\n",
       "  </thead>\n",
       "  <tbody>\n",
       "    <tr>\n",
       "      <th>0</th>\n",
       "      <td>1</td>\n",
       "      <td>xatp 2 bit attention seeking whore</td>\n",
       "    </tr>\n",
       "    <tr>\n",
       "      <th>1</th>\n",
       "      <td>0</td>\n",
       "      <td> i was dodging bullets in slow motion you slut </td>\n",
       "    </tr>\n",
       "    <tr>\n",
       "      <th>2</th>\n",
       "      <td>0</td>\n",
       "      <td>xatp sadiq khan-proud mayor of the rape capita...</td>\n",
       "    </tr>\n",
       "    <tr>\n",
       "      <th>3</th>\n",
       "      <td>0</td>\n",
       "      <td>xatp i agree , you should definitely leave the...</td>\n",
       "    </tr>\n",
       "    <tr>\n",
       "      <th>4</th>\n",
       "      <td>1</td>\n",
       "      <td>xatp xatp xatp xatp did she deny being a slut ?</td>\n",
       "    </tr>\n",
       "  </tbody>\n",
       "</table>\n",
       "</div>"
      ],
      "text/plain": [
       "   label                                               text\n",
       "0      1                 xatp 2 bit attention seeking whore\n",
       "1      0   i was dodging bullets in slow motion you slut \n",
       "2      0  xatp sadiq khan-proud mayor of the rape capita...\n",
       "3      0  xatp i agree , you should definitely leave the...\n",
       "4      1    xatp xatp xatp xatp did she deny being a slut ?"
      ]
     },
     "execution_count": 11,
     "metadata": {},
     "output_type": "execute_result"
    }
   ],
   "source": [
    "df_test['text'] = df_test['text'].apply(ct.prepro_a_tweet)\n",
    "df_test.head(5)"
   ]
  },
  {
   "cell_type": "markdown",
   "metadata": {},
   "source": [
    "### Prepare data in model format"
   ]
  },
  {
   "cell_type": "code",
   "execution_count": 12,
   "metadata": {},
   "outputs": [],
   "source": [
    "TEXT_FIELD = 'text'\n",
    "LABEL_FIELD = 'label'"
   ]
  },
  {
   "cell_type": "code",
   "execution_count": 13,
   "metadata": {},
   "outputs": [],
   "source": [
    "X_train, y_train = df_train[TEXT_FIELD].to_list(), df_train[LABEL_FIELD].to_list()\n",
    "X_test, y_test = df_test[TEXT_FIELD].to_list(), df_test[LABEL_FIELD].to_list()"
   ]
  },
  {
   "cell_type": "code",
   "execution_count": 14,
   "metadata": {},
   "outputs": [
    {
     "name": "stdout",
     "output_type": "stream",
     "text": [
      "downloading pretrained BERT model (uncased_L-12_H-768_A-12.zip)...\n",
      "[██████████████████████████████████████████████████]\n",
      "extracting pretrained BERT model...\n",
      "done.\n",
      "\n",
      "cleanup downloaded zip...\n",
      "done.\n",
      "\n",
      "preprocessing train...\n",
      "language: en\n"
     ]
    },
    {
     "data": {
      "text/html": [
       "done."
      ],
      "text/plain": [
       "<IPython.core.display.HTML object>"
      ]
     },
     "metadata": {},
     "output_type": "display_data"
    },
    {
     "name": "stdout",
     "output_type": "stream",
     "text": [
      "Is Multi-Label? False\n",
      "preprocessing test...\n",
      "language: en\n"
     ]
    },
    {
     "data": {
      "text/html": [
       "done."
      ],
      "text/plain": [
       "<IPython.core.display.HTML object>"
      ]
     },
     "metadata": {},
     "output_type": "display_data"
    },
    {
     "name": "stdout",
     "output_type": "stream",
     "text": [
      "task: text classification\n"
     ]
    }
   ],
   "source": [
    "(xtrain,  ytrain), (xtest, ytest), preproc = text.texts_from_array(x_train=X_train, y_train=y_train,\n",
    "                                                                       x_test=X_test, y_test=y_test,\n",
    "                                                                       class_names=[0, 1],\n",
    "                                                                       preprocess_mode='bert',\n",
    "                                                                       maxlen=350, \n",
    "                                                                       max_features=35000)"
   ]
  },
  {
   "cell_type": "code",
   "execution_count": 15,
   "metadata": {},
   "outputs": [
    {
     "name": "stdout",
     "output_type": "stream",
     "text": [
      "Is Multi-Label? False\n",
      "maxlen is 350\n",
      "done.\n"
     ]
    }
   ],
   "source": [
    "model = text.text_classifier(name='bert', train_data=(xtrain, ytrain), preproc=preproc)"
   ]
  },
  {
   "cell_type": "code",
   "execution_count": 16,
   "metadata": {},
   "outputs": [],
   "source": [
    "learner = ktrain.get_learner(model=model,\n",
    "                             train_data = (xtrain, ytrain),\n",
    "                             val_data = (xtest, ytest),\n",
    "                             batch_size = 6)"
   ]
  },
  {
   "cell_type": "code",
   "execution_count": 17,
   "metadata": {},
   "outputs": [
    {
     "name": "stdout",
     "output_type": "stream",
     "text": [
      "\n",
      "\n",
      "begin training using onecycle policy with max lr of 2e-05...\n",
      "500/500 [==============================] - 1937s 4s/step - loss: 0.4627 - accuracy: 0.7813 - val_loss: 0.3503 - val_accuracy: 0.8544\n"
     ]
    },
    {
     "data": {
      "text/plain": [
       "<tensorflow.python.keras.callbacks.History at 0x2aab8fa16c88>"
      ]
     },
     "execution_count": 17,
     "metadata": {},
     "output_type": "execute_result"
    }
   ],
   "source": [
    "learner.fit_onecycle(lr=2e-5, epochs=1)"
   ]
  },
  {
   "cell_type": "markdown",
   "metadata": {},
   "source": [
    "### Creat a predictor to make prediction on unknown data"
   ]
  },
  {
   "cell_type": "code",
   "execution_count": 18,
   "metadata": {},
   "outputs": [],
   "source": [
    "predictor = ktrain.get_predictor(learner.model, preproc)"
   ]
  },
  {
   "cell_type": "code",
   "execution_count": 19,
   "metadata": {},
   "outputs": [
    {
     "data": {
      "text/plain": [
       "[0, 1]"
      ]
     },
     "execution_count": 19,
     "metadata": {},
     "output_type": "execute_result"
    }
   ],
   "source": [
    "predictor.get_classes()"
   ]
  },
  {
   "cell_type": "code",
   "execution_count": 20,
   "metadata": {},
   "outputs": [
    {
     "data": {
      "text/html": [],
      "text/plain": [
       "<IPython.core.display.HTML object>"
      ]
     },
     "metadata": {},
     "output_type": "display_data"
    }
   ],
   "source": [
    "predicted = predictor.predict(X_test)"
   ]
  },
  {
   "cell_type": "code",
   "execution_count": 23,
   "metadata": {},
   "outputs": [
    {
     "name": "stdout",
     "output_type": "stream",
     "text": [
      "EvaluateBinaryClassification Object Created\n",
      "\n",
      "Total Samples\t1003\n",
      "Positive Samples\t362\n",
      "Negative Samples\t641\n",
      "True Positive\t306\n",
      "True Negative\t551\n",
      "False Positive\t90\n",
      "False Negative\t56\n",
      "Accuracy\t0.8544366899302094\n",
      "Precision\t0.7727272727272727\n",
      "Recall\t0.8453038674033149\n",
      "F1 Measure\t0.8073878627968337\n",
      "Cohen Kappa Score\t0.6907785543847794\n",
      "Area Under Curve\t0.852449125589333\n",
      "\n",
      "              precision    recall  f1-score   support\n",
      "\n",
      "           0       0.91      0.86      0.88       641\n",
      "           1       0.77      0.85      0.81       362\n",
      "\n",
      "    accuracy                           0.85      1003\n",
      "   macro avg       0.84      0.85      0.85      1003\n",
      "weighted avg       0.86      0.85      0.86      1003\n",
      "\n"
     ]
    }
   ],
   "source": [
    "ebc = EvaluateBinaryClassification(gnd_truths = y_test, predictions = predicted)\n",
    "print(ebc.get_full_report())"
   ]
  },
  {
   "cell_type": "markdown",
   "metadata": {},
   "source": [
    "### We can store our trained model"
   ]
  },
  {
   "cell_type": "code",
   "execution_count": 24,
   "metadata": {},
   "outputs": [],
   "source": [
    "# let's save the predictor for later use\n",
    "predictor.save('/tmp/my_predictor')"
   ]
  },
  {
   "cell_type": "code",
   "execution_count": 25,
   "metadata": {},
   "outputs": [],
   "source": [
    "# reload the predictor\n",
    "reloaded_predictor = ktrain.load_predictor('/tmp/my_predictor')"
   ]
  },
  {
   "cell_type": "code",
   "execution_count": 26,
   "metadata": {},
   "outputs": [
    {
     "data": {
      "text/html": [],
      "text/plain": [
       "<IPython.core.display.HTML object>"
      ]
     },
     "metadata": {},
     "output_type": "display_data"
    },
    {
     "data": {
      "text/plain": [
       "[1, 0, 0, 0, 1, 0, 0, 0, 1, 0]"
      ]
     },
     "execution_count": 26,
     "metadata": {},
     "output_type": "execute_result"
    }
   ],
   "source": [
    "# make a prediction on the same document to verify it still works\n",
    "reloaded_predictor.predict(X_test[0:10])"
   ]
  }
 ],
 "metadata": {
  "kernelspec": {
   "display_name": "Python 3",
   "language": "python",
   "name": "python3"
  },
  "language_info": {
   "codemirror_mode": {
    "name": "ipython",
    "version": 3
   },
   "file_extension": ".py",
   "mimetype": "text/x-python",
   "name": "python",
   "nbconvert_exporter": "python",
   "pygments_lexer": "ipython3",
   "version": "3.7.2"
  }
 },
 "nbformat": 4,
 "nbformat_minor": 2
}
