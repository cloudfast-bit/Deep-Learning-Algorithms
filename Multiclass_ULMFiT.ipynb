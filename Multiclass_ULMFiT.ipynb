{
 "cells": [
  {
   "cell_type": "markdown",
   "metadata": {},
   "source": [
    "### Multi class text classifier using ULMFiT\n",
    "\n",
    "The ULMFiT model utilizes AWD-LSTM architecture that uses multiple LSTM layers with dropout applied to every layer. In this practice, we will use ULMFiT for multi class classification instead of regular binary classification. \n",
    "\n",
    "For training and testing the model, we will use a Kaggle dataset that has 20,000 Stack Overflow question titles classified into 20 categories.\n"
   ]
  },
  {
   "cell_type": "markdown",
   "metadata": {},
   "source": [
    "### Import Required Libraries"
   ]
  },
  {
   "cell_type": "code",
   "execution_count": 1,
   "metadata": {},
   "outputs": [],
   "source": [
    "from fastai.text import *\n",
    "import pandas as pd\n",
    "import numpy as np\n",
    "from sklearn.feature_selection import chi2\n",
    "from sklearn.model_selection import train_test_split"
   ]
  },
  {
   "cell_type": "code",
   "execution_count": 2,
   "metadata": {},
   "outputs": [],
   "source": [
    "# optional\n",
    "%reload_ext autoreload\n",
    "%autoreload 2\n",
    "%matplotlib inline"
   ]
  },
  {
   "cell_type": "code",
   "execution_count": 3,
   "metadata": {},
   "outputs": [],
   "source": [
    "# Optional: use this line if you want to remove Pandas'\n",
    "# default limit of long text in columns\n",
    "pd.set_option('display.max_colwidth', None)"
   ]
  },
  {
   "cell_type": "code",
   "execution_count": 4,
   "metadata": {},
   "outputs": [
    {
     "data": {
      "text/plain": [
       "(1, 'Tesla T4')"
      ]
     },
     "execution_count": 4,
     "metadata": {},
     "output_type": "execute_result"
    }
   ],
   "source": [
    "# check for cuda\n",
    "torch.cuda.device_count(), torch.cuda.get_device_name(0)"
   ]
  },
  {
   "cell_type": "code",
   "execution_count": 5,
   "metadata": {},
   "outputs": [],
   "source": [
    "# Set GPU device\n",
    "torch.cuda.set_device(0)"
   ]
  },
  {
   "cell_type": "markdown",
   "metadata": {},
   "source": [
    "### 1. Load data\n",
    "\n",
    "##### Data Source:\n",
    "https://github.com/jacoxu/StackOverflow [1]. 2015NAACL VSM-NLP workshop-\"Short Text Clustering via Convolutional Neural Networks\""
   ]
  },
  {
   "cell_type": "code",
   "execution_count": 8,
   "metadata": {},
   "outputs": [],
   "source": [
    "BASE = 'Keggle_StackOverflowQuestions/'\n",
    "flabel = 'label_StackOverflow.txt'\n",
    "ftitle = 'title_StackOverflow.txt'"
   ]
  },
  {
   "cell_type": "code",
   "execution_count": 9,
   "metadata": {},
   "outputs": [
    {
     "data": {
      "text/html": [
       "<div>\n",
       "<style scoped>\n",
       "    .dataframe tbody tr th:only-of-type {\n",
       "        vertical-align: middle;\n",
       "    }\n",
       "\n",
       "    .dataframe tbody tr th {\n",
       "        vertical-align: top;\n",
       "    }\n",
       "\n",
       "    .dataframe thead th {\n",
       "        text-align: right;\n",
       "    }\n",
       "</style>\n",
       "<table border=\"1\" class=\"dataframe\">\n",
       "  <thead>\n",
       "    <tr style=\"text-align: right;\">\n",
       "      <th></th>\n",
       "      <th>text</th>\n",
       "    </tr>\n",
       "  </thead>\n",
       "  <tbody>\n",
       "    <tr>\n",
       "      <th>0</th>\n",
       "      <td>How do I fill a DataSet or a DataTable from a LINQ query resultset ?</td>\n",
       "    </tr>\n",
       "    <tr>\n",
       "      <th>1</th>\n",
       "      <td>How do you page a collection with LINQ?</td>\n",
       "    </tr>\n",
       "    <tr>\n",
       "      <th>2</th>\n",
       "      <td>Best Subversion clients for Windows Vista (64bit)</td>\n",
       "    </tr>\n",
       "    <tr>\n",
       "      <th>3</th>\n",
       "      <td>Best Practice: Collaborative Environment, Bin Directory, SVN</td>\n",
       "    </tr>\n",
       "    <tr>\n",
       "      <th>4</th>\n",
       "      <td>Visual Studio Setup Project - Per User Registry Settings</td>\n",
       "    </tr>\n",
       "  </tbody>\n",
       "</table>\n",
       "</div>"
      ],
      "text/plain": [
       "                                                                   text\n",
       "0  How do I fill a DataSet or a DataTable from a LINQ query resultset ?\n",
       "1                               How do you page a collection with LINQ?\n",
       "2                     Best Subversion clients for Windows Vista (64bit)\n",
       "3          Best Practice: Collaborative Environment, Bin Directory, SVN\n",
       "4              Visual Studio Setup Project - Per User Registry Settings"
      ]
     },
     "execution_count": 9,
     "metadata": {},
     "output_type": "execute_result"
    }
   ],
   "source": [
    "df_title = pd.read_csv(BASE+ftitle, sep='\\t', names=['text'], header=None)\n",
    "df_title.head(5)"
   ]
  },
  {
   "cell_type": "code",
   "execution_count": 10,
   "metadata": {},
   "outputs": [
    {
     "data": {
      "text/html": [
       "<div>\n",
       "<style scoped>\n",
       "    .dataframe tbody tr th:only-of-type {\n",
       "        vertical-align: middle;\n",
       "    }\n",
       "\n",
       "    .dataframe tbody tr th {\n",
       "        vertical-align: top;\n",
       "    }\n",
       "\n",
       "    .dataframe thead th {\n",
       "        text-align: right;\n",
       "    }\n",
       "</style>\n",
       "<table border=\"1\" class=\"dataframe\">\n",
       "  <thead>\n",
       "    <tr style=\"text-align: right;\">\n",
       "      <th></th>\n",
       "      <th>label</th>\n",
       "    </tr>\n",
       "  </thead>\n",
       "  <tbody>\n",
       "    <tr>\n",
       "      <th>0</th>\n",
       "      <td>18</td>\n",
       "    </tr>\n",
       "    <tr>\n",
       "      <th>1</th>\n",
       "      <td>18</td>\n",
       "    </tr>\n",
       "    <tr>\n",
       "      <th>2</th>\n",
       "      <td>3</td>\n",
       "    </tr>\n",
       "    <tr>\n",
       "      <th>3</th>\n",
       "      <td>3</td>\n",
       "    </tr>\n",
       "    <tr>\n",
       "      <th>4</th>\n",
       "      <td>7</td>\n",
       "    </tr>\n",
       "  </tbody>\n",
       "</table>\n",
       "</div>"
      ],
      "text/plain": [
       "   label\n",
       "0     18\n",
       "1     18\n",
       "2      3\n",
       "3      3\n",
       "4      7"
      ]
     },
     "execution_count": 10,
     "metadata": {},
     "output_type": "execute_result"
    }
   ],
   "source": [
    "df_label = pd.read_csv(BASE+flabel, sep='\\t', names=['label'], header=None)\n",
    "df_label.head(5)"
   ]
  },
  {
   "cell_type": "code",
   "execution_count": 11,
   "metadata": {},
   "outputs": [
    {
     "name": "stdout",
     "output_type": "stream",
     "text": [
      "Length of dataset: 20000\n"
     ]
    },
    {
     "data": {
      "text/html": [
       "<div>\n",
       "<style scoped>\n",
       "    .dataframe tbody tr th:only-of-type {\n",
       "        vertical-align: middle;\n",
       "    }\n",
       "\n",
       "    .dataframe tbody tr th {\n",
       "        vertical-align: top;\n",
       "    }\n",
       "\n",
       "    .dataframe thead th {\n",
       "        text-align: right;\n",
       "    }\n",
       "</style>\n",
       "<table border=\"1\" class=\"dataframe\">\n",
       "  <thead>\n",
       "    <tr style=\"text-align: right;\">\n",
       "      <th></th>\n",
       "      <th>label</th>\n",
       "      <th>text</th>\n",
       "    </tr>\n",
       "  </thead>\n",
       "  <tbody>\n",
       "    <tr>\n",
       "      <th>0</th>\n",
       "      <td>18</td>\n",
       "      <td>How do I fill a DataSet or a DataTable from a LINQ query resultset ?</td>\n",
       "    </tr>\n",
       "    <tr>\n",
       "      <th>1</th>\n",
       "      <td>18</td>\n",
       "      <td>How do you page a collection with LINQ?</td>\n",
       "    </tr>\n",
       "    <tr>\n",
       "      <th>2</th>\n",
       "      <td>3</td>\n",
       "      <td>Best Subversion clients for Windows Vista (64bit)</td>\n",
       "    </tr>\n",
       "    <tr>\n",
       "      <th>3</th>\n",
       "      <td>3</td>\n",
       "      <td>Best Practice: Collaborative Environment, Bin Directory, SVN</td>\n",
       "    </tr>\n",
       "    <tr>\n",
       "      <th>4</th>\n",
       "      <td>7</td>\n",
       "      <td>Visual Studio Setup Project - Per User Registry Settings</td>\n",
       "    </tr>\n",
       "  </tbody>\n",
       "</table>\n",
       "</div>"
      ],
      "text/plain": [
       "   label                                                                  text\n",
       "0     18  How do I fill a DataSet or a DataTable from a LINQ query resultset ?\n",
       "1     18                               How do you page a collection with LINQ?\n",
       "2      3                     Best Subversion clients for Windows Vista (64bit)\n",
       "3      3          Best Practice: Collaborative Environment, Bin Directory, SVN\n",
       "4      7              Visual Studio Setup Project - Per User Registry Settings"
      ]
     },
     "execution_count": 11,
     "metadata": {},
     "output_type": "execute_result"
    }
   ],
   "source": [
    "df = pd.concat([df_label, df_title], axis=1, sort=False)\n",
    "print('Length of dataset: '+str(len(df.index)))\n",
    "df.head()"
   ]
  },
  {
   "cell_type": "code",
   "execution_count": 12,
   "metadata": {},
   "outputs": [
    {
     "data": {
      "text/html": [
       "<div>\n",
       "<style scoped>\n",
       "    .dataframe tbody tr th:only-of-type {\n",
       "        vertical-align: middle;\n",
       "    }\n",
       "\n",
       "    .dataframe tbody tr th {\n",
       "        vertical-align: top;\n",
       "    }\n",
       "\n",
       "    .dataframe thead th {\n",
       "        text-align: right;\n",
       "    }\n",
       "</style>\n",
       "<table border=\"1\" class=\"dataframe\">\n",
       "  <thead>\n",
       "    <tr style=\"text-align: right;\">\n",
       "      <th></th>\n",
       "      <th>label</th>\n",
       "      <th>text</th>\n",
       "    </tr>\n",
       "  </thead>\n",
       "  <tbody>\n",
       "    <tr>\n",
       "      <th>0</th>\n",
       "      <td>linq</td>\n",
       "      <td>How do I fill a DataSet or a DataTable from a LINQ query resultset ?</td>\n",
       "    </tr>\n",
       "    <tr>\n",
       "      <th>1</th>\n",
       "      <td>linq</td>\n",
       "      <td>How do you page a collection with LINQ?</td>\n",
       "    </tr>\n",
       "    <tr>\n",
       "      <th>2</th>\n",
       "      <td>svn</td>\n",
       "      <td>Best Subversion clients for Windows Vista (64bit)</td>\n",
       "    </tr>\n",
       "    <tr>\n",
       "      <th>3</th>\n",
       "      <td>svn</td>\n",
       "      <td>Best Practice: Collaborative Environment, Bin Directory, SVN</td>\n",
       "    </tr>\n",
       "    <tr>\n",
       "      <th>4</th>\n",
       "      <td>visual-studio</td>\n",
       "      <td>Visual Studio Setup Project - Per User Registry Settings</td>\n",
       "    </tr>\n",
       "  </tbody>\n",
       "</table>\n",
       "</div>"
      ],
      "text/plain": [
       "           label  \\\n",
       "0           linq   \n",
       "1           linq   \n",
       "2            svn   \n",
       "3            svn   \n",
       "4  visual-studio   \n",
       "\n",
       "                                                                   text  \n",
       "0  How do I fill a DataSet or a DataTable from a LINQ query resultset ?  \n",
       "1                               How do you page a collection with LINQ?  \n",
       "2                     Best Subversion clients for Windows Vista (64bit)  \n",
       "3          Best Practice: Collaborative Environment, Bin Directory, SVN  \n",
       "4              Visual Studio Setup Project - Per User Registry Settings  "
      ]
     },
     "execution_count": 12,
     "metadata": {},
     "output_type": "execute_result"
    }
   ],
   "source": [
    "# [Optional] Update label column to show the label text itself, rather than the number.\n",
    "'''\n",
    "This step is for visual convenience, and it will not affect the ML model. \n",
    "\n",
    "If you decide to run this block of code, FastAI predictions will show as the actual text, instead of just a number. \n",
    "\n",
    "Please do not do this the dataset is large.\n",
    "'''\n",
    "\n",
    "mapping = {\n",
    "  1: 'wordpress',\n",
    "  2: 'oracle',\n",
    "  3: 'svn',\n",
    "  4: 'apache',\n",
    "  5: 'excel',\n",
    "  6: 'matlab',\n",
    "  7: 'visual-studio',\n",
    "  8: 'cocoa',\n",
    "  9: 'osx',\n",
    "  10: 'bash',\n",
    "  11: 'spring',\n",
    "  12: 'hibernate',\n",
    "  13: 'scala',\n",
    "  14: 'sharepoint',\n",
    "  15: 'ajax',\n",
    "  16: 'qt',\n",
    "  17: 'drupal',\n",
    "  18: 'linq',\n",
    "  19: 'haskell',\n",
    "  20: 'magento'\n",
    "}\n",
    "\n",
    "df['label'] = df['label'].map(mapping)\n",
    "df.head()"
   ]
  },
  {
   "cell_type": "markdown",
   "metadata": {},
   "source": [
    "### 2. Data Preparation\n",
    "\n",
    "Split train & validation datasets and creat FastAI data bunch"
   ]
  },
  {
   "cell_type": "code",
   "execution_count": 13,
   "metadata": {},
   "outputs": [
    {
     "data": {
      "text/plain": [
       "((16000, 2), (4000, 2))"
      ]
     },
     "execution_count": 13,
     "metadata": {},
     "output_type": "execute_result"
    }
   ],
   "source": [
    "df_trn, df_val = train_test_split(df, stratify = df['label'], test_size = 0.2) #If shuffle=False then stratify must be None.\n",
    "\n",
    "df_trn.shape, df_val.shape"
   ]
  },
  {
   "cell_type": "markdown",
   "metadata": {},
   "source": [
    "##### Now we will setup our data in the FastAI required format. \n",
    "\n",
    "##### We will creat FastAI data bunch, one for Language Model (LM) and another for classifier.\n",
    "\n",
    "Creating a data bunch automatically results in pre-processing of text, including vocabulary formation and tokenization.\n",
    "\n",
    "    1. TextLMDataBunch: creates a data bunch for language modelling. In this, labels are completely ignored. Instead, data is processed so that the RNN can learn what word comes next given a starting word. Read the documentation here.\n",
    "    2. TextClasDataBunch: sets up the data for classification. Labels play a key role here. We can also set the batch size for learning by changing the bs parameter.\n",
    "    \n",
    "##### Note in pre-processing\n",
    "The xx___ tags represent the aspects of language in a way that the computer can understand. The xxbos tag marks the beginning of a sentence. The xxmaj tag is used to imply that the first letter of the next word is capitalized."
   ]
  },
  {
   "cell_type": "code",
   "execution_count": 14,
   "metadata": {},
   "outputs": [
    {
     "data": {
      "text/html": [
       "<table border=\"1\" class=\"dataframe\">\n",
       "  <thead>\n",
       "    <tr style=\"text-align: right;\">\n",
       "      <th>idx</th>\n",
       "      <th>text</th>\n",
       "    </tr>\n",
       "  </thead>\n",
       "  <tbody>\n",
       "    <tr>\n",
       "      <td>0</td>\n",
       "      <td>fix this virtual host setup ? xxbos xxmaj spring servlet mapping - no css or jsp ! xxbos xxup ajax ( prototype / php ) running 2 ajax process hangs until first one is finished xxbos xxmaj how to accept xxup ref cursor in xxup java without importing xxmaj oracle xxmaj package xxbos xxmaj scala : xxmaj parallel assignment of xxmaj tuples xxbos xxmaj how do i count the number</td>\n",
       "    </tr>\n",
       "    <tr>\n",
       "      <td>1</td>\n",
       "      <td>xxmaj is it possible to detect 32 bit vs 64 bit in a bash script ? xxbos xxmaj how do i set environment variable completion in a bash shell on mac xxbos xxmaj how do i do date math in a bash script on xxup os x xxmaj leopard ? xxbos xxmaj best way to simulate \" group by \" from bash xxbos xxmaj parallelize xxmaj bash xxmaj script xxbos</td>\n",
       "    </tr>\n",
       "    <tr>\n",
       "      <td>2</td>\n",
       "      <td>? xxbos xxmaj how do i use qmake to build multiple binaries in a single project ? xxbos xxmaj is there an xxmaj oracle xxup sql tool that builds insert statements from a result set ? xxbos xxup ajax cross site scripting between own domains xxbos local vs core contoller xxbos xxunk as \" xxmaj pop - up \" , not as new xxmaj widget ? xxbos i xxmaj need</td>\n",
       "    </tr>\n",
       "    <tr>\n",
       "      <td>3</td>\n",
       "      <td>to session registry after restart ? xxbos xxmaj customizing xxmaj visual xxmaj studio 's xxmaj intellisense xxbos xxmaj how do i create a xxmaj spring 3 + xxmaj tiles 2 webapp using xxup rest - xxunk urls ? xxbos xxmaj how can i make comments like on stackoverflow ? xxbos xxmaj how do you authenticate against an xxmaj active xxmaj directory server using xxmaj spring xxmaj security ? xxbos xxmaj</td>\n",
       "    </tr>\n",
       "    <tr>\n",
       "      <td>4</td>\n",
       "      <td>for ? xxbos xxmaj is there a xxmaj scala unit test tool that xxunk well with xxmaj maven ? xxbos xxunk akka xxunk when using restarting container in sbt xxbos xxmaj scala equivalent to xxmaj haskell xxmaj monads xxbos xxmaj but i still need to know how to show user e - mail in xxmaj drupal 5.x profile ( xxunk ) ? xxbos xxmaj how do i reuse xxunk in</td>\n",
       "    </tr>\n",
       "  </tbody>\n",
       "</table>"
      ],
      "text/plain": [
       "<IPython.core.display.HTML object>"
      ]
     },
     "metadata": {},
     "output_type": "display_data"
    }
   ],
   "source": [
    "# Language model data bunch\n",
    "\n",
    "datab_lm = TextLMDataBunch.from_df(train_df = df_trn, \n",
    "                                   valid_df = df_val, \n",
    "                                   path = BASE+'temp')\n",
    "\n",
    "datab_lm.show_batch()"
   ]
  },
  {
   "cell_type": "code",
   "execution_count": 15,
   "metadata": {},
   "outputs": [
    {
     "data": {
      "text/html": [
       "<table border=\"1\" class=\"dataframe\">\n",
       "  <thead>\n",
       "    <tr style=\"text-align: right;\">\n",
       "      <th>text</th>\n",
       "      <th>target</th>\n",
       "    </tr>\n",
       "  </thead>\n",
       "  <tbody>\n",
       "    <tr>\n",
       "      <td>xxbos xxmaj in apache , if i go to https : / / xxunk , the page itself is over https , but all images / links are http : / / . xxmaj is there way to auto rewrite the html so its all https : / / ?</td>\n",
       "      <td>apache</td>\n",
       "    </tr>\n",
       "    <tr>\n",
       "      <td>xxbos i 've a function updating database table using xxmaj spring 's jdbctemplate and for some reason there was exception that connection is read only u can not update any database related changes . xxmaj how to resolve these problem ?</td>\n",
       "      <td>spring</td>\n",
       "    </tr>\n",
       "    <tr>\n",
       "      <td>xxbos c : \\ xxmaj documents and xxmaj settings \\ user \\ xxmaj my xxmaj documents \\ xxunk \\ xxunk xxunk xxunk \\ xxunk : xxmaj the module has not been deployed .</td>\n",
       "      <td>ajax</td>\n",
       "    </tr>\n",
       "    <tr>\n",
       "      <td>xxbos xxmaj need xxmaj help xxmaj with xxup ajax - xxmaj enabled xxup wcf xxmaj services ( xxmaj please xxmaj look @ xxmaj system . xxunk in xxmaj web . xxmaj config )</td>\n",
       "      <td>ajax</td>\n",
       "    </tr>\n",
       "    <tr>\n",
       "      <td>xxbos xxmaj in xxmaj drupal 6 , is there a way to take a custom field from the latest post to a taxonomy term , and display it in a view ?</td>\n",
       "      <td>drupal</td>\n",
       "    </tr>\n",
       "  </tbody>\n",
       "</table>"
      ],
      "text/plain": [
       "<IPython.core.display.HTML object>"
      ]
     },
     "metadata": {},
     "output_type": "display_data"
    }
   ],
   "source": [
    "# Classifier model data\n",
    "datab_clas = TextClasDataBunch.from_df(train_df = df_trn, \n",
    "                                       valid_df = df_val, \n",
    "                                       #test_df = df_test,\n",
    "                                       path = BASE+'temp',\n",
    "                                       vocab=datab_lm.train_ds.vocab, bs=24)\n",
    "\n",
    "datab_clas.show_batch()"
   ]
  },
  {
   "cell_type": "markdown",
   "metadata": {},
   "source": [
    "### 3. Create and Train the Language Model\n",
    "\n",
    "We will create a language model with AWD-LSTM architecture"
   ]
  },
  {
   "cell_type": "code",
   "execution_count": 17,
   "metadata": {},
   "outputs": [],
   "source": [
    "learn_lm = language_model_learner(datab_lm, AWD_LSTM, drop_mult=0.3) # rerun if fails\n",
    "# drop_multi is the drop-out proportion in the dropout strategy"
   ]
  },
  {
   "cell_type": "code",
   "execution_count": 20,
   "metadata": {},
   "outputs": [
    {
     "data": {
      "text/html": [],
      "text/plain": [
       "<IPython.core.display.HTML object>"
      ]
     },
     "metadata": {},
     "output_type": "display_data"
    },
    {
     "name": "stdout",
     "output_type": "stream",
     "text": [
      "LR Finder is complete, type {learner_name}.recorder.plot() to see the graph.\n",
      "Min numerical gradient: 1.20E-01\n",
      "Min loss divided by 10: 2.29E-01\n"
     ]
    },
    {
     "data": {
      "image/png": "[encoded data removed]",
      "text/plain": [
       "<Figure size 432x288 with 1 Axes>"
      ]
     },
     "metadata": {
      "needs_background": "light"
     },
     "output_type": "display_data"
    }
   ],
   "source": [
    "# Now Let’s find the optimal learning rate to train our language model\n",
    "'''\n",
    "lr_find() is a built in fast.ai function that runs a few epochs on the model to plot loss, \n",
    "and then calculate the minimum gradient.\n",
    "'''\n",
    "learn_lm.lr_find() # rerun if fails\n",
    "learn_lm.recorder.plot(suggestion=True)\n",
    "min_grad_lr = learn_lm.recorder.min_grad_lr"
   ]
  },
  {
   "cell_type": "code",
   "execution_count": 22,
   "metadata": {},
   "outputs": [
    {
     "data": {
      "text/html": [
       "<table border=\"1\" class=\"dataframe\">\n",
       "  <thead>\n",
       "    <tr style=\"text-align: left;\">\n",
       "      <th>epoch</th>\n",
       "      <th>train_loss</th>\n",
       "      <th>valid_loss</th>\n",
       "      <th>accuracy</th>\n",
       "      <th>time</th>\n",
       "    </tr>\n",
       "  </thead>\n",
       "  <tbody>\n",
       "    <tr>\n",
       "      <td>0</td>\n",
       "      <td>5.304716</td>\n",
       "      <td>4.265568</td>\n",
       "      <td>0.301618</td>\n",
       "      <td>00:08</td>\n",
       "    </tr>\n",
       "    <tr>\n",
       "      <td>1</td>\n",
       "      <td>4.455246</td>\n",
       "      <td>4.091677</td>\n",
       "      <td>0.314658</td>\n",
       "      <td>00:07</td>\n",
       "    </tr>\n",
       "  </tbody>\n",
       "</table>"
      ],
      "text/plain": [
       "<IPython.core.display.HTML object>"
      ]
     },
     "metadata": {},
     "output_type": "display_data"
    }
   ],
   "source": [
    "# we use the obtained optimal learning rate to train the language mode\n",
    "learn_lm.fit_one_cycle(2, min_grad_lr)"
   ]
  },
  {
   "cell_type": "code",
   "execution_count": 24,
   "metadata": {},
   "outputs": [
    {
     "data": {
      "text/html": [
       "<table border=\"1\" class=\"dataframe\">\n",
       "  <thead>\n",
       "    <tr style=\"text-align: left;\">\n",
       "      <th>epoch</th>\n",
       "      <th>train_loss</th>\n",
       "      <th>valid_loss</th>\n",
       "      <th>accuracy</th>\n",
       "      <th>time</th>\n",
       "    </tr>\n",
       "  </thead>\n",
       "  <tbody>\n",
       "    <tr>\n",
       "      <td>0</td>\n",
       "      <td>3.756818</td>\n",
       "      <td>3.976108</td>\n",
       "      <td>0.328571</td>\n",
       "      <td>00:10</td>\n",
       "    </tr>\n",
       "    <tr>\n",
       "      <td>1</td>\n",
       "      <td>3.621818</td>\n",
       "      <td>3.970571</td>\n",
       "      <td>0.331734</td>\n",
       "      <td>00:10</td>\n",
       "    </tr>\n",
       "  </tbody>\n",
       "</table>"
      ],
      "text/plain": [
       "<IPython.core.display.HTML object>"
      ]
     },
     "metadata": {},
     "output_type": "display_data"
    }
   ],
   "source": [
    "# unfreezing weights and training the rest of the NN\n",
    "learn_lm.unfreeze()\n",
    "learn_lm.fit_one_cycle(2, 1e-3)"
   ]
  },
  {
   "cell_type": "markdown",
   "metadata": {},
   "source": [
    "The language model achieved around 33% accuracy, which means that 1 out of 3 times correct. It looks the model predicts the next word relatively well."
   ]
  },
  {
   "cell_type": "code",
   "execution_count": 27,
   "metadata": {},
   "outputs": [
    {
     "data": {
      "text/plain": [
       "'memory overflow in LINQ xxbos Is Oracle rss feed'"
      ]
     },
     "execution_count": 27,
     "metadata": {},
     "output_type": "execute_result"
    }
   ],
   "source": [
    "# Now we can ask LM to generate text given the initial clue\n",
    "learn_lm.predict(\"memory overflow\", n_words=10)"
   ]
  },
  {
   "cell_type": "code",
   "execution_count": 28,
   "metadata": {},
   "outputs": [],
   "source": [
    "# We will save the language model encoder so that we can load it later in our classifier.\n",
    "learn_lm.save_encoder('lm_ft_enc')"
   ]
  },
  {
   "cell_type": "markdown",
   "metadata": {},
   "source": [
    "### 4. Using the Language Model to Train the Classifier\n",
    "\n",
    "We will create the text_classifier_learner with the datab_clas DataBunch and the AWD_LSTM architecture. Then, we will load the language model encoder we saved."
   ]
  },
  {
   "cell_type": "code",
   "execution_count": 30,
   "metadata": {},
   "outputs": [],
   "source": [
    "learn_cls = text_classifier_learner(datab_clas, AWD_LSTM, drop_mult=0.5)\n",
    "learn_cls.load_encoder('lm_ft_enc')"
   ]
  },
  {
   "cell_type": "code",
   "execution_count": 32,
   "metadata": {},
   "outputs": [
    {
     "data": {
      "text/html": [],
      "text/plain": [
       "<IPython.core.display.HTML object>"
      ]
     },
     "metadata": {},
     "output_type": "display_data"
    },
    {
     "name": "stdout",
     "output_type": "stream",
     "text": [
      "LR Finder is complete, type {learner_name}.recorder.plot() to see the graph.\n",
      "Min numerical gradient: 8.32E-02\n",
      "Min loss divided by 10: 1.20E-02\n"
     ]
    },
    {
     "data": {
      "image/png": "[encoded data removed]",
      "text/plain": [
       "<Figure size 432x288 with 1 Axes>"
      ]
     },
     "metadata": {
      "needs_background": "light"
     },
     "output_type": "display_data"
    }
   ],
   "source": [
    "# Now we find the optimal learning rate for classifier model.\n",
    "learn_cls.lr_find()\n",
    "learn_cls.recorder.plot(suggestion=True)\n",
    "min_grad_lr = learn_cls.recorder.min_grad_lr"
   ]
  },
  {
   "cell_type": "code",
   "execution_count": 34,
   "metadata": {},
   "outputs": [
    {
     "data": {
      "text/html": [
       "<table border=\"1\" class=\"dataframe\">\n",
       "  <thead>\n",
       "    <tr style=\"text-align: left;\">\n",
       "      <th>epoch</th>\n",
       "      <th>train_loss</th>\n",
       "      <th>valid_loss</th>\n",
       "      <th>accuracy</th>\n",
       "      <th>time</th>\n",
       "    </tr>\n",
       "  </thead>\n",
       "  <tbody>\n",
       "    <tr>\n",
       "      <td>0</td>\n",
       "      <td>1.978760</td>\n",
       "      <td>1.408301</td>\n",
       "      <td>0.605750</td>\n",
       "      <td>00:09</td>\n",
       "    </tr>\n",
       "    <tr>\n",
       "      <td>1</td>\n",
       "      <td>1.513259</td>\n",
       "      <td>0.999193</td>\n",
       "      <td>0.749500</td>\n",
       "      <td>00:09</td>\n",
       "    </tr>\n",
       "  </tbody>\n",
       "</table>"
      ],
      "text/plain": [
       "<IPython.core.display.HTML object>"
      ]
     },
     "metadata": {},
     "output_type": "display_data"
    }
   ],
   "source": [
    "'''\n",
    "We will use gradual unfreezing technique to train the classifier. \n",
    "In this technique we start by training the last few layers, \n",
    "then go backwards and unfreeze and train layers before. \n",
    "We use the function learn_cls.freeze_to(-2) to unfreeze the last 2 layers.\n",
    "'''\n",
    "learn_cls.fit_one_cycle(2, min_grad_lr)"
   ]
  },
  {
   "cell_type": "code",
   "execution_count": 35,
   "metadata": {},
   "outputs": [
    {
     "data": {
      "image/png": "[encoded data removed]",
      "text/plain": [
       "<Figure size 432x288 with 1 Axes>"
      ]
     },
     "metadata": {
      "needs_background": "light"
     },
     "output_type": "display_data"
    }
   ],
   "source": [
    "# We will also use learn_cls.recorder.plot_losses() to track our loss function over the epochs.\n",
    "learn_cls.recorder.plot_losses()"
   ]
  },
  {
   "cell_type": "code",
   "execution_count": 37,
   "metadata": {},
   "outputs": [
    {
     "data": {
      "text/html": [
       "<table border=\"1\" class=\"dataframe\">\n",
       "  <thead>\n",
       "    <tr style=\"text-align: left;\">\n",
       "      <th>epoch</th>\n",
       "      <th>train_loss</th>\n",
       "      <th>valid_loss</th>\n",
       "      <th>accuracy</th>\n",
       "      <th>time</th>\n",
       "    </tr>\n",
       "  </thead>\n",
       "  <tbody>\n",
       "    <tr>\n",
       "      <td>0</td>\n",
       "      <td>1.180187</td>\n",
       "      <td>0.772005</td>\n",
       "      <td>0.788000</td>\n",
       "      <td>00:11</td>\n",
       "    </tr>\n",
       "    <tr>\n",
       "      <td>1</td>\n",
       "      <td>0.905957</td>\n",
       "      <td>0.746189</td>\n",
       "      <td>0.814750</td>\n",
       "      <td>00:11</td>\n",
       "    </tr>\n",
       "    <tr>\n",
       "      <td>2</td>\n",
       "      <td>0.797505</td>\n",
       "      <td>0.639564</td>\n",
       "      <td>0.828250</td>\n",
       "      <td>00:11</td>\n",
       "    </tr>\n",
       "    <tr>\n",
       "      <td>3</td>\n",
       "      <td>0.794416</td>\n",
       "      <td>0.616703</td>\n",
       "      <td>0.831000</td>\n",
       "      <td>00:11</td>\n",
       "    </tr>\n",
       "  </tbody>\n",
       "</table>"
      ],
      "text/plain": [
       "<IPython.core.display.HTML object>"
      ]
     },
     "metadata": {},
     "output_type": "display_data"
    }
   ],
   "source": [
    "learn_cls.freeze_to(-2)\n",
    "learn_cls.fit_one_cycle(4, slice(5e-3, 2e-3), moms=(0.8,0.7))"
   ]
  },
  {
   "cell_type": "code",
   "execution_count": 38,
   "metadata": {},
   "outputs": [
    {
     "data": {
      "image/png": "[encoded data removed]",
      "text/plain": [
       "<Figure size 432x288 with 1 Axes>"
      ]
     },
     "metadata": {
      "needs_background": "light"
     },
     "output_type": "display_data"
    }
   ],
   "source": [
    "learn_cls.recorder.plot_losses()"
   ]
  },
  {
   "cell_type": "code",
   "execution_count": 39,
   "metadata": {},
   "outputs": [
    {
     "data": {
      "text/html": [
       "<table border=\"1\" class=\"dataframe\">\n",
       "  <thead>\n",
       "    <tr style=\"text-align: left;\">\n",
       "      <th>epoch</th>\n",
       "      <th>train_loss</th>\n",
       "      <th>valid_loss</th>\n",
       "      <th>accuracy</th>\n",
       "      <th>time</th>\n",
       "    </tr>\n",
       "  </thead>\n",
       "  <tbody>\n",
       "    <tr>\n",
       "      <td>0</td>\n",
       "      <td>0.700037</td>\n",
       "      <td>0.604809</td>\n",
       "      <td>0.834000</td>\n",
       "      <td>00:24</td>\n",
       "    </tr>\n",
       "    <tr>\n",
       "      <td>1</td>\n",
       "      <td>0.674963</td>\n",
       "      <td>1.004924</td>\n",
       "      <td>0.838750</td>\n",
       "      <td>00:24</td>\n",
       "    </tr>\n",
       "    <tr>\n",
       "      <td>2</td>\n",
       "      <td>0.575452</td>\n",
       "      <td>0.923241</td>\n",
       "      <td>0.843000</td>\n",
       "      <td>00:24</td>\n",
       "    </tr>\n",
       "    <tr>\n",
       "      <td>3</td>\n",
       "      <td>0.508327</td>\n",
       "      <td>0.679751</td>\n",
       "      <td>0.843500</td>\n",
       "      <td>00:25</td>\n",
       "    </tr>\n",
       "  </tbody>\n",
       "</table>"
      ],
      "text/plain": [
       "<IPython.core.display.HTML object>"
      ]
     },
     "metadata": {},
     "output_type": "display_data"
    }
   ],
   "source": [
    "# Finally, we unfreeze all layers and train the model at a low learning rate.\n",
    "learn_cls.unfreeze()\n",
    "learn_cls.fit_one_cycle(4, slice(2e-3/100, 2e-3), moms=(0.8,0.7))"
   ]
  },
  {
   "cell_type": "markdown",
   "metadata": {},
   "source": [
    "### 5. Analyzing our results"
   ]
  },
  {
   "cell_type": "code",
   "execution_count": 41,
   "metadata": {},
   "outputs": [
    {
     "data": {
      "image/png": "[encoded data removed]",
      "text/plain": [
       "<Figure size 432x288 with 1 Axes>"
      ]
     },
     "metadata": {
      "needs_background": "light"
     },
     "output_type": "display_data"
    }
   ],
   "source": [
    "# show the confusion matrix\n",
    "preds,y,losses = learn_cls.get_preds(with_loss=True)\n",
    "interp = ClassificationInterpretation(learn_cls, preds, y, losses)\n",
    "interp.plot_confusion_matrix()"
   ]
  },
  {
   "cell_type": "code",
   "execution_count": 42,
   "metadata": {},
   "outputs": [
    {
     "data": {
      "text/plain": [
       "[('osx', 'cocoa', 26),\n",
       " ('cocoa', 'osx', 18),\n",
       " ('qt', 'cocoa', 18),\n",
       " ('haskell', 'cocoa', 14),\n",
       " ('cocoa', 'qt', 13),\n",
       " ('excel', 'cocoa', 10),\n",
       " ('matlab', 'cocoa', 10),\n",
       " ('sharepoint', 'cocoa', 10),\n",
       " ('osx', 'apache', 9),\n",
       " ('visual-studio', 'cocoa', 9),\n",
       " ('ajax', 'cocoa', 8),\n",
       " ('apache', 'qt', 8),\n",
       " ('osx', 'qt', 8),\n",
       " ('apache', 'cocoa', 7),\n",
       " ('oracle', 'cocoa', 7),\n",
       " ('scala', 'spring', 7),\n",
       " ('svn', 'bash', 7),\n",
       " ('haskell', 'qt', 6),\n",
       " ('qt', 'osx', 6),\n",
       " ('scala', 'cocoa', 6),\n",
       " ('scala', 'haskell', 6),\n",
       " ('spring', 'sharepoint', 6),\n",
       " ('wordpress', 'cocoa', 6),\n",
       " ('ajax', 'apache', 5),\n",
       " ('bash', 'osx', 5),\n",
       " ('excel', 'oracle', 5),\n",
       " ('hibernate', 'qt', 5),\n",
       " ('hibernate', 'spring', 5),\n",
       " ('linq', 'hibernate', 5),\n",
       " ('linq', 'oracle', 5),\n",
       " ('matlab', 'qt', 5),\n",
       " ('qt', 'bash', 5),\n",
       " ('scala', 'qt', 5),\n",
       " ('sharepoint', 'ajax', 5),\n",
       " ('spring', 'ajax', 5),\n",
       " ('spring', 'cocoa', 5),\n",
       " ('spring', 'hibernate', 5),\n",
       " ('ajax', 'bash', 4),\n",
       " ('ajax', 'osx', 4),\n",
       " ('ajax', 'qt', 4),\n",
       " ('apache', 'osx', 4),\n",
       " ('cocoa', 'apache', 4),\n",
       " ('cocoa', 'oracle', 4),\n",
       " ('excel', 'qt', 4),\n",
       " ('hibernate', 'cocoa', 4),\n",
       " ('oracle', 'qt', 4),\n",
       " ('osx', 'svn', 4),\n",
       " ('osx', 'visual-studio', 4),\n",
       " ('scala', 'ajax', 4),\n",
       " ('svn', 'osx', 4),\n",
       " ('visual-studio', 'osx', 4),\n",
       " ('visual-studio', 'qt', 4),\n",
       " ('visual-studio', 'svn', 4),\n",
       " ('ajax', 'visual-studio', 3),\n",
       " ('apache', 'ajax', 3),\n",
       " ('apache', 'bash', 3),\n",
       " ('apache', 'sharepoint', 3),\n",
       " ('apache', 'svn', 3),\n",
       " ('bash', 'cocoa', 3),\n",
       " ('bash', 'haskell', 3),\n",
       " ('bash', 'qt', 3),\n",
       " ('cocoa', 'hibernate', 3),\n",
       " ('cocoa', 'sharepoint', 3),\n",
       " ('drupal', 'ajax', 3),\n",
       " ('drupal', 'qt', 3),\n",
       " ('drupal', 'wordpress', 3),\n",
       " ('excel', 'sharepoint', 3),\n",
       " ('haskell', 'osx', 3),\n",
       " ('hibernate', 'oracle', 3),\n",
       " ('linq', 'cocoa', 3),\n",
       " ('magento', 'cocoa', 3),\n",
       " ('magento', 'wordpress', 3),\n",
       " ('matlab', 'bash', 3),\n",
       " ('osx', 'bash', 3),\n",
       " ('qt', 'ajax', 3),\n",
       " ('scala', 'hibernate', 3),\n",
       " ('visual-studio', 'bash', 3),\n",
       " ('visual-studio', 'oracle', 3),\n",
       " ('wordpress', 'ajax', 3),\n",
       " ('wordpress', 'sharepoint', 3),\n",
       " ('ajax', 'scala', 2),\n",
       " ('ajax', 'sharepoint', 2),\n",
       " ('bash', 'apache', 2),\n",
       " ('bash', 'linq', 2),\n",
       " ('bash', 'matlab', 2),\n",
       " ('bash', 'sharepoint', 2),\n",
       " ('cocoa', 'ajax', 2),\n",
       " ('cocoa', 'haskell', 2),\n",
       " ('cocoa', 'scala', 2),\n",
       " ('cocoa', 'spring', 2),\n",
       " ('cocoa', 'visual-studio', 2),\n",
       " ('drupal', 'apache', 2),\n",
       " ('drupal', 'cocoa', 2),\n",
       " ('drupal', 'sharepoint', 2),\n",
       " ('excel', 'haskell', 2),\n",
       " ('excel', 'matlab', 2),\n",
       " ('haskell', 'oracle', 2),\n",
       " ('haskell', 'scala', 2),\n",
       " ('hibernate', 'haskell', 2),\n",
       " ('hibernate', 'visual-studio', 2),\n",
       " ('linq', 'scala', 2),\n",
       " ('linq', 'sharepoint', 2),\n",
       " ('magento', 'ajax', 2),\n",
       " ('magento', 'haskell', 2),\n",
       " ('magento', 'qt', 2),\n",
       " ('matlab', 'haskell', 2),\n",
       " ('oracle', 'apache', 2),\n",
       " ('oracle', 'haskell', 2),\n",
       " ('oracle', 'hibernate', 2),\n",
       " ('oracle', 'visual-studio', 2),\n",
       " ('osx', 'ajax', 2),\n",
       " ('osx', 'haskell', 2),\n",
       " ('osx', 'spring', 2),\n",
       " ('qt', 'apache', 2),\n",
       " ('qt', 'drupal', 2),\n",
       " ('qt', 'scala', 2),\n",
       " ('scala', 'bash', 2),\n",
       " ('sharepoint', 'apache', 2),\n",
       " ('sharepoint', 'haskell', 2),\n",
       " ('sharepoint', 'linq', 2),\n",
       " ('sharepoint', 'magento', 2),\n",
       " ('sharepoint', 'qt', 2),\n",
       " ('spring', 'apache', 2),\n",
       " ('spring', 'bash', 2),\n",
       " ('spring', 'haskell', 2),\n",
       " ('spring', 'qt', 2),\n",
       " ('spring', 'scala', 2),\n",
       " ('svn', 'cocoa', 2),\n",
       " ('svn', 'haskell', 2),\n",
       " ('svn', 'qt', 2),\n",
       " ('svn', 'visual-studio', 2),\n",
       " ('visual-studio', 'sharepoint', 2),\n",
       " ('wordpress', 'apache', 2),\n",
       " ('wordpress', 'drupal', 2),\n",
       " ('ajax', 'haskell', 1),\n",
       " ('ajax', 'matlab', 1),\n",
       " ('ajax', 'oracle', 1),\n",
       " ('ajax', 'svn', 1),\n",
       " ('apache', 'magento', 1),\n",
       " ('apache', 'spring', 1),\n",
       " ('apache', 'visual-studio', 1),\n",
       " ('apache', 'wordpress', 1),\n",
       " ('bash', 'ajax', 1),\n",
       " ('bash', 'drupal', 1),\n",
       " ('bash', 'oracle', 1),\n",
       " ('bash', 'svn', 1),\n",
       " ('bash', 'visual-studio', 1),\n",
       " ('cocoa', 'bash', 1),\n",
       " ('cocoa', 'excel', 1),\n",
       " ('cocoa', 'linq', 1),\n",
       " ('cocoa', 'magento', 1),\n",
       " ('drupal', 'magento', 1),\n",
       " ('drupal', 'oracle', 1),\n",
       " ('drupal', 'svn', 1),\n",
       " ('haskell', 'ajax', 1),\n",
       " ('haskell', 'bash', 1),\n",
       " ('haskell', 'linq', 1),\n",
       " ('haskell', 'matlab', 1),\n",
       " ('haskell', 'visual-studio', 1),\n",
       " ('hibernate', 'apache', 1),\n",
       " ('hibernate', 'bash', 1),\n",
       " ('hibernate', 'linq', 1),\n",
       " ('linq', 'apache', 1),\n",
       " ('linq', 'excel', 1),\n",
       " ('linq', 'svn', 1),\n",
       " ('linq', 'wordpress', 1),\n",
       " ('magento', 'apache', 1),\n",
       " ('magento', 'bash', 1),\n",
       " ('magento', 'drupal', 1),\n",
       " ('magento', 'matlab', 1),\n",
       " ('magento', 'sharepoint', 1),\n",
       " ('magento', 'visual-studio', 1),\n",
       " ('matlab', 'drupal', 1),\n",
       " ('matlab', 'excel', 1),\n",
       " ('matlab', 'oracle', 1),\n",
       " ('matlab', 'osx', 1),\n",
       " ('matlab', 'spring', 1),\n",
       " ('matlab', 'visual-studio', 1),\n",
       " ('oracle', 'sharepoint', 1),\n",
       " ('oracle', 'spring', 1),\n",
       " ('osx', 'matlab', 1),\n",
       " ('qt', 'excel', 1),\n",
       " ('qt', 'hibernate', 1),\n",
       " ('qt', 'magento', 1),\n",
       " ('qt', 'svn', 1),\n",
       " ('qt', 'visual-studio', 1),\n",
       " ('scala', 'apache', 1),\n",
       " ('scala', 'linq', 1),\n",
       " ('scala', 'oracle', 1),\n",
       " ('sharepoint', 'drupal', 1),\n",
       " ('sharepoint', 'excel', 1),\n",
       " ('sharepoint', 'hibernate', 1),\n",
       " ('sharepoint', 'matlab', 1),\n",
       " ('sharepoint', 'oracle', 1),\n",
       " ('sharepoint', 'osx', 1),\n",
       " ('sharepoint', 'spring', 1),\n",
       " ('sharepoint', 'svn', 1),\n",
       " ('sharepoint', 'visual-studio', 1),\n",
       " ('spring', 'svn', 1),\n",
       " ('svn', 'apache', 1),\n",
       " ('svn', 'sharepoint', 1),\n",
       " ('svn', 'spring', 1),\n",
       " ('visual-studio', 'ajax', 1),\n",
       " ('visual-studio', 'apache', 1),\n",
       " ('visual-studio', 'haskell', 1),\n",
       " ('visual-studio', 'magento', 1),\n",
       " ('wordpress', 'bash', 1),\n",
       " ('wordpress', 'haskell', 1),\n",
       " ('wordpress', 'magento', 1),\n",
       " ('wordpress', 'osx', 1),\n",
       " ('wordpress', 'qt', 1),\n",
       " ('wordpress', 'svn', 1)]"
      ]
     },
     "execution_count": 42,
     "metadata": {},
     "output_type": "execute_result"
    }
   ],
   "source": [
    "# Find the categories that the classifier gets confused on the most.\n",
    "interp.most_confused()"
   ]
  },
  {
   "cell_type": "markdown",
   "metadata": {},
   "source": [
    "### 6. Predictions!\n",
    "\n",
    "Now we can use our model to predict the category of any sentence."
   ]
  },
  {
   "cell_type": "code",
   "execution_count": 43,
   "metadata": {},
   "outputs": [
    {
     "data": {
      "text/plain": [
       "(Category cocoa,\n",
       " tensor(3),\n",
       " tensor([0.0797, 0.1432, 0.0143, 0.2954, 0.0074, 0.0239, 0.0153, 0.0349, 0.0050,\n",
       "         0.0283, 0.0045, 0.0043, 0.0705, 0.0564, 0.0079, 0.0569, 0.0620, 0.0185,\n",
       "         0.0282, 0.0432]))"
      ]
     },
     "execution_count": 43,
     "metadata": {},
     "output_type": "execute_result"
    }
   ],
   "source": [
    "learn_cls.predict(\"homebrew not working\")"
   ]
  },
  {
   "cell_type": "markdown",
   "metadata": {},
   "source": [
    "### 7. Export the model\n",
    "\n",
    "We can export our model using the following function and use it.\n",
    "\n",
    "It will generate the export.pkl file in directory."
   ]
  },
  {
   "cell_type": "code",
   "execution_count": 44,
   "metadata": {},
   "outputs": [],
   "source": [
    "learn_cls.export()"
   ]
  },
  {
   "cell_type": "markdown",
   "metadata": {},
   "source": [
    "References:\n",
    "\n",
    "[1] https://medium.com/technonerds/using-fastais-ulmfit-to-make-a-state-of-the-art-multi-label-text-classifier-bf54e2943e83\n",
    "\n",
    "[2] https://github.com/aditya10/ULMFiT-fastai-text-classifier/blob/master/ULMFiT_tutorial.ipynb"
   ]
  }
 ],
 "metadata": {
  "kernelspec": {
   "display_name": "Python 3",
   "language": "python",
   "name": "python3"
  },
  "language_info": {
   "codemirror_mode": {
    "name": "ipython",
    "version": 3
   },
   "file_extension": ".py",
   "mimetype": "text/x-python",
   "name": "python",
   "nbconvert_exporter": "python",
   "pygments_lexer": "ipython3",
   "version": "3.7.2"
  }
 },
 "nbformat": 4,
 "nbformat_minor": 4
}
